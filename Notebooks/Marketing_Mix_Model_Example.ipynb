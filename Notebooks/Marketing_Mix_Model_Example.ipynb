{
  "cells": [
    {
      "cell_type": "markdown",
      "metadata": {
        "id": "iHwiHTunM3IG",
        "jupyter": {
          "outputs_hidden": true
        }
      },
      "source": [
        "# Marketing Mix Model\n",
        "\n",
        "**Sanofi**\n",
        "\n",
        "-Author: Patricio Fernández\n",
        "\n",
        "- Dependencies\n",
        "    - Optuna library (for optimization).\n",
        "    - Pandas\n",
        "    - Matplotlib\n",
        "    - Sklearn\n",
        "    - Excel with data."
      ]
    },
    {
      "cell_type": "markdown",
      "metadata": {},
      "source": [
        "## Objective of this Notebook \n",
        "\n",
        "This notebook serves as a guide on how to build marketing mix models in order to obtain contributions of the different channels (touchpoints) on product sales. This toy example includes relevant feature transformations as adstock (decay), seasonality, saturation, lags, etc. \n",
        "\n",
        "This notebook also contains a very simple and quick optimization tool can serve as inspiration but should not be taken as a definite solution for the Turing use case. Likewise, it has been built with toy data which mimics real-life scenarios, but is not a full picture of the marketing spends a real product has during a year."
      ]
    },
    {
      "cell_type": "markdown",
      "metadata": {
        "id": "6Hh_rnfspT4t"
      },
      "source": [
        "## 1. initialize notebook and Setup"
      ]
    },
    {
      "cell_type": "code",
      "execution_count": null,
      "metadata": {
        "colab": {
          "base_uri": "https://localhost:8080/"
        },
        "id": "m7AtUtxijjcX",
        "outputId": "4cf0a49a-17b6-4153-9d05-4c50a36f5c57"
      },
      "outputs": [],
      "source": [
        "# Install optuna for non linear optimization. Plotly for VIZ \n",
        "#!pip install optuna\n",
        "#!pip install plotly"
      ]
    },
    {
      "cell_type": "code",
      "execution_count": 2,
      "metadata": {
        "id": "sb5V0LWfWI_k"
      },
      "outputs": [],
      "source": [
        "# Imports.\n",
        "import pandas as pd\n",
        "import numpy as np\n",
        "import matplotlib.pyplot as plt\n",
        "import datetime as dt\n",
        "from sklearn.linear_model import LinearRegression, Ridge\n",
        "import optuna\n",
        "from scipy.interpolate import make_interp_spline\n",
        "import plotly.express as px\n"
      ]
    },
    {
      "cell_type": "code",
      "execution_count": 3,
      "metadata": {
        "id": "C3VgSwC0UlZE"
      },
      "outputs": [],
      "source": [
        "# Configuration for viz and verbosity.\n",
        "plt.rcParams[\"figure.figsize\"] = (20,8)\n",
        "optuna.logging.set_verbosity(optuna.logging.WARNING)\n",
        "\n",
        "# Path were the input file is stored.\n",
        "data_url = \"/Users/e0449486/OneDrive/OneDrive - Sanofi/Desktop/Projects/GitHub/sanofi_use_cases/Data/contribution_exercise.csv\"\n",
        "# Define channels to use.\n",
        "CHANNELS = ['tv_1', 'tv_2', 'tv_3', 'promo', 'onsite']\n",
        "\n",
        "# Define target variable.\n",
        "TARGET = 'sales'\n",
        "# Define weeks for testing period.\n",
        "TEST_SIZE = 8\n",
        "# Seed for reproducibility\n",
        "SEED = 42\n",
        "\n",
        "# COVID FLAG (Stocking)\n",
        "start_date = '16-03-2020'\n",
        "end_date = '01-04-2020'"
      ]
    },
    {
      "cell_type": "markdown",
      "metadata": {},
      "source": [
        "# 2. Helpers"
      ]
    },
    {
      "cell_type": "code",
      "execution_count": 4,
      "metadata": {},
      "outputs": [],
      "source": [
        "# Helpers\n",
        "# Data process .\n",
        "def _date_is_between(x, low, high) -> bool:\n",
        "\n",
        "    x = pd.to_datetime(x, format='%d-%m-%Y')\n",
        "    low = pd.to_datetime(low, format='%d-%m-%Y')\n",
        "    high = pd.to_datetime(high, format='%d-%m-%Y')\n",
        "\n",
        "    if x >= low and x <= high:\n",
        "        return 1\n",
        "    else:\n",
        "        return 0\n",
        "\n",
        "def add_flag(\n",
        "    df: pd.DataFrame,\n",
        "    flag_name: str = 'flag',\n",
        "    start_date: str = start_date,\n",
        "    end_date: str = end_date,\n",
        "    ):\n",
        "    # add flag\n",
        "    df[flag_name] = df.Date.apply(lambda x: \n",
        "        _date_is_between(\n",
        "            x, start_date, end_date\n",
        "        )\n",
        "    )\n",
        "\n",
        "def add_monthly_seasonality(\n",
        "    pdf_input: pd.DataFrame\n",
        ") -> pd.DataFrame:\n",
        "    \"Adds monthly seasonality as one hot encoded variables\"\n",
        "    pdf = pdf_input.copy()\n",
        "    pdf['Date'] = pd.to_datetime(pdf.Date)\n",
        "    # Create col for month.\n",
        "    pdf['month'] = pdf.Date.dt.month\n",
        "    # Add one hot encoding. Remove last column due to redundancy.\n",
        "    pdf_seasonal = pd.concat(\n",
        "        [\n",
        "            pdf,\n",
        "            pd.get_dummies(\n",
        "                pdf['month'], \n",
        "                prefix='month'\n",
        "            ).iloc[:, :-1]\n",
        "        ],\n",
        "        axis=1\n",
        "    )\n",
        "    \n",
        "    return  pdf_seasonal.drop('month', axis=1)\n",
        "\n",
        "# Carry over, Saturation helpers.\n",
        "\n",
        "def carry_over_effect(\n",
        "    input_variable: pd.Series, decay: float, lag: int\n",
        ") -> pd.Series:\n",
        "    \"Apply carry over transformation to a given pandas Series\"\n",
        "    output = []\n",
        "    for row in range(len(input_variable)):\n",
        "        # Take care of observations with less days than required for lags. \n",
        "        # e.g. For the first day, we have a problem if lag=5.\n",
        "        lag_aux = min(lag, row)\n",
        "        \n",
        "        # Apply decay effect to every row.\n",
        "        output.append(\n",
        "            sum(\n",
        "                [\n",
        "                    input_variable[row-i] * (decay ** i)  for i in range(lag_aux + 1)\n",
        "                ]\n",
        "            )\n",
        "        )\n",
        "    return pd.Series(output)\n",
        "\n",
        "def saturation_effect(input_variable: pd.Series, alpha: float\n",
        ") -> pd.Series:\n",
        "    \"Apply exponential transformation to a given pandas Series.\"\n",
        "    return (1 - np.exp(-alpha * input_variable))\n",
        "\n",
        "def adstock_tranformation(\n",
        "    input_variable: pd.Series, alpha: float, decay: float, lag: int\n",
        ") -> pd.Series:\n",
        "    \"Apply adstock transformation to a given pandas Series.\"\n",
        "    return saturation_effect(\n",
        "        carry_over_effect(\n",
        "            input_variable, decay, lag\n",
        "        ), alpha\n",
        "    )\n",
        "\n",
        "def add_adstock_to_pdf(\n",
        "    pdf_input: pd.DataFrame,\n",
        "    hyperparameters: dict,\n",
        "    channels: list,\n",
        ") -> pd.DataFrame:\n",
        "    \"Add adstock columns to a given dataset.\"\n",
        "    \n",
        "    pdf = pdf_input.copy()\n",
        "    # Add a column for each channel with the name adstock_channel.\n",
        "    for c in channels:\n",
        "        pdf[f'adstock_{c}'] = adstock_tranformation(\n",
        "            pdf[c],\n",
        "            hyperparameters[f'alpha_{c}'],\n",
        "            hyperparameters[f'decay_{c}'],\n",
        "            hyperparameters[f'lag_{c}']\n",
        "            ).values\n",
        "    return pdf\n",
        "\n",
        "def sales_from(\n",
        "    channel: str,\n",
        "    features: list,\n",
        "    model: LinearRegression,\n",
        "    X: pd.DataFrame\n",
        "    ) -> pd.DataFrame:\n",
        "    \"Compute sales attributed to a certain channel\"\n",
        "    coef = model.coef_[features.index(channel)]\n",
        "    obs = X.iloc[:, features.index(channel)]\n",
        "    return  coef * obs\n",
        "\n"
      ]
    },
    {
      "cell_type": "markdown",
      "metadata": {
        "id": "Aa_hhZj2GluZ"
      },
      "source": [
        "## 3. Process data"
      ]
    },
    {
      "cell_type": "markdown",
      "metadata": {
        "id": "wShwfASJqTTe"
      },
      "source": [
        "We have different sources of data with different formats.\n",
        "Some of them are at weekly level, others at monthly level. For every marketing channel, we have multiple subchannels (for example, in TV there are 3 different subchannels and in promo events and on site trade, we encounter different locations and targets).\n",
        "\n",
        "There's no single way to proceed and ideally we should check with our business partners our different assumptions.\n",
        "\n",
        "The goal of this notebook is to have a minimal working example, so we will reduce the level of complexity as much as possible. For this, we decided to model our sales variable as a function of every tv subchannel, events and onsite marketing.\n",
        "\n",
        "Also, we will assume that non cough promotional events have a marginal impact in cough sales, thus filtering them from our data.\n",
        "\n",
        "Finally, we will work with weekly granularity, allocating promo events and onsite marketing evenly distributed for every week in the month."
      ]
    },
    {
      "cell_type": "code",
      "execution_count": 5,
      "metadata": {
        "colab": {
          "base_uri": "https://localhost:8080/"
        },
        "id": "aA4hKhUyERyl",
        "outputId": "4b813c08-3a03-413f-b4c5-6b892df16c54"
      },
      "outputs": [
        {
          "data": {
            "text/html": [
              "<div>\n",
              "<style scoped>\n",
              "    .dataframe tbody tr th:only-of-type {\n",
              "        vertical-align: middle;\n",
              "    }\n",
              "\n",
              "    .dataframe tbody tr th {\n",
              "        vertical-align: top;\n",
              "    }\n",
              "\n",
              "    .dataframe thead th {\n",
              "        text-align: right;\n",
              "    }\n",
              "</style>\n",
              "<table border=\"1\" class=\"dataframe\">\n",
              "  <thead>\n",
              "    <tr style=\"text-align: right;\">\n",
              "      <th></th>\n",
              "      <th>sales</th>\n",
              "      <th>tv_1</th>\n",
              "      <th>tv_2</th>\n",
              "      <th>tv_3</th>\n",
              "      <th>promo</th>\n",
              "      <th>onsite</th>\n",
              "      <th>month_1</th>\n",
              "      <th>month_2</th>\n",
              "      <th>month_3</th>\n",
              "      <th>month_4</th>\n",
              "      <th>month_5</th>\n",
              "      <th>month_6</th>\n",
              "      <th>month_7</th>\n",
              "      <th>month_8</th>\n",
              "      <th>month_9</th>\n",
              "      <th>month_10</th>\n",
              "      <th>month_11</th>\n",
              "      <th>covid_flag</th>\n",
              "    </tr>\n",
              "    <tr>\n",
              "      <th>Date</th>\n",
              "      <th></th>\n",
              "      <th></th>\n",
              "      <th></th>\n",
              "      <th></th>\n",
              "      <th></th>\n",
              "      <th></th>\n",
              "      <th></th>\n",
              "      <th></th>\n",
              "      <th></th>\n",
              "      <th></th>\n",
              "      <th></th>\n",
              "      <th></th>\n",
              "      <th></th>\n",
              "      <th></th>\n",
              "      <th></th>\n",
              "      <th></th>\n",
              "      <th></th>\n",
              "      <th></th>\n",
              "    </tr>\n",
              "  </thead>\n",
              "  <tbody>\n",
              "    <tr>\n",
              "      <th>2019-01-13</th>\n",
              "      <td>2333.774722</td>\n",
              "      <td>605.0</td>\n",
              "      <td>125.0</td>\n",
              "      <td>37.381706</td>\n",
              "      <td>12.514645</td>\n",
              "      <td>1158.023548</td>\n",
              "      <td>1</td>\n",
              "      <td>0</td>\n",
              "      <td>0</td>\n",
              "      <td>0</td>\n",
              "      <td>0</td>\n",
              "      <td>0</td>\n",
              "      <td>0</td>\n",
              "      <td>0</td>\n",
              "      <td>0</td>\n",
              "      <td>0</td>\n",
              "      <td>0</td>\n",
              "      <td>0</td>\n",
              "    </tr>\n",
              "    <tr>\n",
              "      <th>2019-01-20</th>\n",
              "      <td>2140.697120</td>\n",
              "      <td>508.0</td>\n",
              "      <td>167.0</td>\n",
              "      <td>34.766218</td>\n",
              "      <td>12.514645</td>\n",
              "      <td>1158.023548</td>\n",
              "      <td>1</td>\n",
              "      <td>0</td>\n",
              "      <td>0</td>\n",
              "      <td>0</td>\n",
              "      <td>0</td>\n",
              "      <td>0</td>\n",
              "      <td>0</td>\n",
              "      <td>0</td>\n",
              "      <td>0</td>\n",
              "      <td>0</td>\n",
              "      <td>0</td>\n",
              "      <td>0</td>\n",
              "    </tr>\n",
              "    <tr>\n",
              "      <th>2019-01-27</th>\n",
              "      <td>2485.883420</td>\n",
              "      <td>0.0</td>\n",
              "      <td>166.0</td>\n",
              "      <td>46.756001</td>\n",
              "      <td>12.514645</td>\n",
              "      <td>1158.023548</td>\n",
              "      <td>1</td>\n",
              "      <td>0</td>\n",
              "      <td>0</td>\n",
              "      <td>0</td>\n",
              "      <td>0</td>\n",
              "      <td>0</td>\n",
              "      <td>0</td>\n",
              "      <td>0</td>\n",
              "      <td>0</td>\n",
              "      <td>0</td>\n",
              "      <td>0</td>\n",
              "      <td>0</td>\n",
              "    </tr>\n",
              "    <tr>\n",
              "      <th>2019-02-03</th>\n",
              "      <td>2777.820794</td>\n",
              "      <td>0.0</td>\n",
              "      <td>191.0</td>\n",
              "      <td>47.218405</td>\n",
              "      <td>8.999762</td>\n",
              "      <td>1138.811742</td>\n",
              "      <td>0</td>\n",
              "      <td>1</td>\n",
              "      <td>0</td>\n",
              "      <td>0</td>\n",
              "      <td>0</td>\n",
              "      <td>0</td>\n",
              "      <td>0</td>\n",
              "      <td>0</td>\n",
              "      <td>0</td>\n",
              "      <td>0</td>\n",
              "      <td>0</td>\n",
              "      <td>0</td>\n",
              "    </tr>\n",
              "    <tr>\n",
              "      <th>2019-02-10</th>\n",
              "      <td>2875.494071</td>\n",
              "      <td>0.0</td>\n",
              "      <td>158.0</td>\n",
              "      <td>44.303406</td>\n",
              "      <td>4.313250</td>\n",
              "      <td>1113.196000</td>\n",
              "      <td>0</td>\n",
              "      <td>1</td>\n",
              "      <td>0</td>\n",
              "      <td>0</td>\n",
              "      <td>0</td>\n",
              "      <td>0</td>\n",
              "      <td>0</td>\n",
              "      <td>0</td>\n",
              "      <td>0</td>\n",
              "      <td>0</td>\n",
              "      <td>0</td>\n",
              "      <td>0</td>\n",
              "    </tr>\n",
              "  </tbody>\n",
              "</table>\n",
              "</div>"
            ],
            "text/plain": [
              "                  sales   tv_1   tv_2       tv_3      promo       onsite  \\\n",
              "Date                                                                       \n",
              "2019-01-13  2333.774722  605.0  125.0  37.381706  12.514645  1158.023548   \n",
              "2019-01-20  2140.697120  508.0  167.0  34.766218  12.514645  1158.023548   \n",
              "2019-01-27  2485.883420    0.0  166.0  46.756001  12.514645  1158.023548   \n",
              "2019-02-03  2777.820794    0.0  191.0  47.218405   8.999762  1138.811742   \n",
              "2019-02-10  2875.494071    0.0  158.0  44.303406   4.313250  1113.196000   \n",
              "\n",
              "            month_1  month_2  month_3  month_4  month_5  month_6  month_7  \\\n",
              "Date                                                                        \n",
              "2019-01-13        1        0        0        0        0        0        0   \n",
              "2019-01-20        1        0        0        0        0        0        0   \n",
              "2019-01-27        1        0        0        0        0        0        0   \n",
              "2019-02-03        0        1        0        0        0        0        0   \n",
              "2019-02-10        0        1        0        0        0        0        0   \n",
              "\n",
              "            month_8  month_9  month_10  month_11  covid_flag  \n",
              "Date                                                          \n",
              "2019-01-13        0        0         0         0           0  \n",
              "2019-01-20        0        0         0         0           0  \n",
              "2019-01-27        0        0         0         0           0  \n",
              "2019-02-03        0        0         0         0           0  \n",
              "2019-02-10        0        0         0         0           0  "
            ]
          },
          "execution_count": 5,
          "metadata": {},
          "output_type": "execute_result"
        }
      ],
      "source": [
        "pdf_processed = pd.read_csv(data_url)\n",
        "# Adds OHE seasonalit variables.\n",
        "pdf_processed = add_monthly_seasonality(pdf_processed)\n",
        "# Add covid Stocking flag\n",
        "add_flag(\n",
        "    pdf_processed, \n",
        "    'covid_flag',\n",
        "     start_date, \n",
        "     end_date\n",
        ")\n",
        "# Having date as index for handling\n",
        "pdf_processed.set_index('Date', inplace=True)\n",
        "# check it \n",
        "pdf_processed.head()"
      ]
    },
    {
      "cell_type": "code",
      "execution_count": 6,
      "metadata": {},
      "outputs": [
        {
          "data": {
            "application/vnd.plotly.v1+json": {
              "config": {
                "plotlyServerURL": "https://plot.ly"
              },
              "data": [
                {
                  "hovertemplate": "variable=sales<br>Date=%{x}<br>value=%{y}<extra></extra>",
                  "legendgroup": "sales",
                  "line": {
                    "color": "#636efa",
                    "dash": "solid"
                  },
                  "marker": {
                    "symbol": "circle"
                  },
                  "mode": "lines",
                  "name": "sales",
                  "orientation": "v",
                  "showlegend": true,
                  "type": "scatter",
                  "x": [
                    "2019-01-13T00:00:00",
                    "2019-01-20T00:00:00",
                    "2019-01-27T00:00:00",
                    "2019-02-03T00:00:00",
                    "2019-02-10T00:00:00",
                    "2019-02-17T00:00:00",
                    "2019-02-24T00:00:00",
                    "2019-03-03T00:00:00",
                    "2019-03-10T00:00:00",
                    "2019-03-17T00:00:00",
                    "2019-03-24T00:00:00",
                    "2019-03-31T00:00:00",
                    "2019-04-07T00:00:00",
                    "2019-04-14T00:00:00",
                    "2019-04-21T00:00:00",
                    "2019-04-28T00:00:00",
                    "2019-05-05T00:00:00",
                    "2019-05-12T00:00:00",
                    "2019-05-19T00:00:00",
                    "2019-05-26T00:00:00",
                    "2019-06-02T00:00:00",
                    "2019-06-09T00:00:00",
                    "2019-06-16T00:00:00",
                    "2019-06-23T00:00:00",
                    "2019-06-30T00:00:00",
                    "2019-07-07T00:00:00",
                    "2019-07-14T00:00:00",
                    "2019-07-21T00:00:00",
                    "2019-07-28T00:00:00",
                    "2019-08-04T00:00:00",
                    "2019-08-11T00:00:00",
                    "2019-08-18T00:00:00",
                    "2019-08-25T00:00:00",
                    "2019-09-01T00:00:00",
                    "2019-09-08T00:00:00",
                    "2019-09-15T00:00:00",
                    "2019-09-22T00:00:00",
                    "2019-09-29T00:00:00",
                    "2019-10-06T00:00:00",
                    "2019-10-13T00:00:00",
                    "2019-10-20T00:00:00",
                    "2019-10-27T00:00:00",
                    "2019-11-03T00:00:00",
                    "2019-11-10T00:00:00",
                    "2019-11-17T00:00:00",
                    "2019-11-24T00:00:00",
                    "2019-12-01T00:00:00",
                    "2019-12-08T00:00:00",
                    "2019-12-15T00:00:00",
                    "2019-12-22T00:00:00",
                    "2019-12-29T00:00:00",
                    "2020-01-05T00:00:00",
                    "2020-01-12T00:00:00",
                    "2020-01-19T00:00:00",
                    "2020-01-26T00:00:00",
                    "2020-02-02T00:00:00",
                    "2020-02-09T00:00:00",
                    "2020-02-16T00:00:00",
                    "2020-02-23T00:00:00",
                    "2020-03-01T00:00:00",
                    "2020-03-08T00:00:00",
                    "2020-03-15T00:00:00",
                    "2020-03-22T00:00:00",
                    "2020-03-29T00:00:00",
                    "2020-04-05T00:00:00",
                    "2020-04-12T00:00:00",
                    "2020-04-19T00:00:00",
                    "2020-04-26T00:00:00",
                    "2020-05-03T00:00:00",
                    "2020-05-10T00:00:00",
                    "2020-05-17T00:00:00",
                    "2020-05-24T00:00:00",
                    "2020-05-31T00:00:00",
                    "2020-06-07T00:00:00",
                    "2020-06-14T00:00:00",
                    "2020-06-21T00:00:00",
                    "2020-06-28T00:00:00",
                    "2020-07-05T00:00:00",
                    "2020-07-12T00:00:00",
                    "2020-07-19T00:00:00",
                    "2020-07-26T00:00:00",
                    "2020-08-02T00:00:00",
                    "2020-08-09T00:00:00",
                    "2020-08-16T00:00:00",
                    "2020-08-23T00:00:00",
                    "2020-08-30T00:00:00",
                    "2020-09-06T00:00:00",
                    "2020-09-13T00:00:00",
                    "2020-09-20T00:00:00",
                    "2020-09-27T00:00:00",
                    "2020-10-04T00:00:00",
                    "2020-10-11T00:00:00",
                    "2020-10-18T00:00:00",
                    "2020-10-25T00:00:00",
                    "2020-11-01T00:00:00",
                    "2020-11-08T00:00:00",
                    "2020-11-15T00:00:00",
                    "2020-11-22T00:00:00",
                    "2020-11-29T00:00:00",
                    "2020-12-06T00:00:00",
                    "2020-12-13T00:00:00",
                    "2020-12-20T00:00:00",
                    "2020-12-27T00:00:00",
                    "2021-01-03T00:00:00",
                    "2021-01-10T00:00:00",
                    "2021-01-17T00:00:00",
                    "2021-01-24T00:00:00",
                    "2021-01-31T00:00:00",
                    "2021-02-07T00:00:00",
                    "2021-02-14T00:00:00",
                    "2021-02-21T00:00:00",
                    "2021-02-28T00:00:00",
                    "2021-03-07T00:00:00",
                    "2021-03-14T00:00:00",
                    "2021-03-21T00:00:00",
                    "2021-03-28T00:00:00",
                    "2021-04-04T00:00:00",
                    "2021-04-11T00:00:00",
                    "2021-04-18T00:00:00",
                    "2021-04-25T00:00:00",
                    "2021-05-02T00:00:00",
                    "2021-05-09T00:00:00",
                    "2021-05-16T00:00:00",
                    "2021-05-23T00:00:00",
                    "2021-05-30T00:00:00",
                    "2021-06-06T00:00:00",
                    "2021-06-13T00:00:00",
                    "2021-06-20T00:00:00",
                    "2021-06-27T00:00:00",
                    "2021-07-04T00:00:00",
                    "2021-07-11T00:00:00",
                    "2021-07-18T00:00:00"
                  ],
                  "xaxis": "x",
                  "y": [
                    2333.77472218,
                    2140.69712032,
                    2485.88341974,
                    2777.82079423,
                    2875.49407134,
                    3018.04305036,
                    2341.26462471,
                    1720.99046336,
                    1662.80575104,
                    1408.7494858500002,
                    1532.07140161,
                    1541.29421602,
                    1674.3269202,
                    1637.13551984,
                    1354.09592133,
                    1535.3077038,
                    1176.91628,
                    1201.34326416,
                    965.3295485699998,
                    1119.5660392799998,
                    983.3253546,
                    1296.31932232,
                    1072.87667264,
                    1046.08878528,
                    995.74328025,
                    1038.62631475,
                    856.60413956,
                    826.85520822,
                    676.335872,
                    592.4112829860001,
                    988.76403512,
                    885.4874774199999,
                    886.50047052,
                    773.65315351,
                    703.7531447099999,
                    1163.7600014799998,
                    1500.8079770200002,
                    2067.24627642,
                    1683.1272612,
                    2053.16650656,
                    2296.60400082,
                    2016.4211752,
                    2306.2605672,
                    2191.3178204200003,
                    1926.93475379,
                    1676.10969477,
                    2735.28350253,
                    1960.98121475,
                    2633.3873956,
                    2794.79212441,
                    2312.51065668,
                    2344.6995482800003,
                    2308.7827683571604,
                    2229.76586769134,
                    2261.70176206252,
                    1898.8885047095605,
                    2870.4821772508603,
                    2081.84977489392,
                    2607.136955921471,
                    2277.8475835615,
                    2133.78490325091,
                    2572.16554235637,
                    2138.9110858379604,
                    3038.771067887999,
                    1405.2493188494998,
                    1368.6209600451598,
                    911.40429805352,
                    863.1803951876701,
                    647.25891176814,
                    719.7830064506201,
                    647.7339402424001,
                    743.1180142449599,
                    590.9735008614,
                    443.6629242002999,
                    615.57798308972,
                    473.36727057132,
                    484.6007286825601,
                    423.49225067082,
                    742.06799905401,
                    919.79977606301,
                    1017.9024096152702,
                    751.4068098628001,
                    824.64779282895,
                    647.0516824801499,
                    778.9122008232399,
                    863.7418843010599,
                    789.5649653507,
                    998.3556609280002,
                    1425.2371114180298,
                    2163.9163604797204,
                    1379.2097333557203,
                    1429.7797487699202,
                    2070.64220427144,
                    1429.3631062198604,
                    1219.19901294438,
                    1844.5780128202,
                    1054.0592809324205,
                    1253.8035055942498,
                    1335.4961012779495,
                    1263.2982947616,
                    850.8810029793001,
                    1526.0336292644502,
                    974.5299095126,
                    1034.1669266897,
                    930.484439379,
                    1203.46648929852,
                    1322.43175175552,
                    1370.0976797902802,
                    1606.29602826816,
                    1497.42444530566,
                    2146.3657094238,
                    1786.95064862928,
                    1273.7026330859098,
                    1274.9266700700996,
                    1702.2569419347,
                    1239.2063589204,
                    1720.0991294620203,
                    1503.20552849478,
                    1148.74194312064,
                    1200.66736898286,
                    801.9604146914301,
                    665.58454677105,
                    995.2497738930498,
                    1220.3963918800002,
                    1273.4674324297002,
                    1350.3188745072002,
                    862.9680862139401,
                    870.4649552155199,
                    694.9922493520501,
                    1069.0057230497002,
                    846.53390523494,
                    213.65486604989283
                  ],
                  "yaxis": "y"
                }
              ],
              "layout": {
                "legend": {
                  "title": {
                    "text": "variable"
                  },
                  "tracegroupgap": 0
                },
                "margin": {
                  "t": 60
                },
                "template": {
                  "data": {
                    "bar": [
                      {
                        "error_x": {
                          "color": "#2a3f5f"
                        },
                        "error_y": {
                          "color": "#2a3f5f"
                        },
                        "marker": {
                          "line": {
                            "color": "#E5ECF6",
                            "width": 0.5
                          },
                          "pattern": {
                            "fillmode": "overlay",
                            "size": 10,
                            "solidity": 0.2
                          }
                        },
                        "type": "bar"
                      }
                    ],
                    "barpolar": [
                      {
                        "marker": {
                          "line": {
                            "color": "#E5ECF6",
                            "width": 0.5
                          },
                          "pattern": {
                            "fillmode": "overlay",
                            "size": 10,
                            "solidity": 0.2
                          }
                        },
                        "type": "barpolar"
                      }
                    ],
                    "carpet": [
                      {
                        "aaxis": {
                          "endlinecolor": "#2a3f5f",
                          "gridcolor": "white",
                          "linecolor": "white",
                          "minorgridcolor": "white",
                          "startlinecolor": "#2a3f5f"
                        },
                        "baxis": {
                          "endlinecolor": "#2a3f5f",
                          "gridcolor": "white",
                          "linecolor": "white",
                          "minorgridcolor": "white",
                          "startlinecolor": "#2a3f5f"
                        },
                        "type": "carpet"
                      }
                    ],
                    "choropleth": [
                      {
                        "colorbar": {
                          "outlinewidth": 0,
                          "ticks": ""
                        },
                        "type": "choropleth"
                      }
                    ],
                    "contour": [
                      {
                        "colorbar": {
                          "outlinewidth": 0,
                          "ticks": ""
                        },
                        "colorscale": [
                          [
                            0,
                            "#0d0887"
                          ],
                          [
                            0.1111111111111111,
                            "#46039f"
                          ],
                          [
                            0.2222222222222222,
                            "#7201a8"
                          ],
                          [
                            0.3333333333333333,
                            "#9c179e"
                          ],
                          [
                            0.4444444444444444,
                            "#bd3786"
                          ],
                          [
                            0.5555555555555556,
                            "#d8576b"
                          ],
                          [
                            0.6666666666666666,
                            "#ed7953"
                          ],
                          [
                            0.7777777777777778,
                            "#fb9f3a"
                          ],
                          [
                            0.8888888888888888,
                            "#fdca26"
                          ],
                          [
                            1,
                            "#f0f921"
                          ]
                        ],
                        "type": "contour"
                      }
                    ],
                    "contourcarpet": [
                      {
                        "colorbar": {
                          "outlinewidth": 0,
                          "ticks": ""
                        },
                        "type": "contourcarpet"
                      }
                    ],
                    "heatmap": [
                      {
                        "colorbar": {
                          "outlinewidth": 0,
                          "ticks": ""
                        },
                        "colorscale": [
                          [
                            0,
                            "#0d0887"
                          ],
                          [
                            0.1111111111111111,
                            "#46039f"
                          ],
                          [
                            0.2222222222222222,
                            "#7201a8"
                          ],
                          [
                            0.3333333333333333,
                            "#9c179e"
                          ],
                          [
                            0.4444444444444444,
                            "#bd3786"
                          ],
                          [
                            0.5555555555555556,
                            "#d8576b"
                          ],
                          [
                            0.6666666666666666,
                            "#ed7953"
                          ],
                          [
                            0.7777777777777778,
                            "#fb9f3a"
                          ],
                          [
                            0.8888888888888888,
                            "#fdca26"
                          ],
                          [
                            1,
                            "#f0f921"
                          ]
                        ],
                        "type": "heatmap"
                      }
                    ],
                    "heatmapgl": [
                      {
                        "colorbar": {
                          "outlinewidth": 0,
                          "ticks": ""
                        },
                        "colorscale": [
                          [
                            0,
                            "#0d0887"
                          ],
                          [
                            0.1111111111111111,
                            "#46039f"
                          ],
                          [
                            0.2222222222222222,
                            "#7201a8"
                          ],
                          [
                            0.3333333333333333,
                            "#9c179e"
                          ],
                          [
                            0.4444444444444444,
                            "#bd3786"
                          ],
                          [
                            0.5555555555555556,
                            "#d8576b"
                          ],
                          [
                            0.6666666666666666,
                            "#ed7953"
                          ],
                          [
                            0.7777777777777778,
                            "#fb9f3a"
                          ],
                          [
                            0.8888888888888888,
                            "#fdca26"
                          ],
                          [
                            1,
                            "#f0f921"
                          ]
                        ],
                        "type": "heatmapgl"
                      }
                    ],
                    "histogram": [
                      {
                        "marker": {
                          "pattern": {
                            "fillmode": "overlay",
                            "size": 10,
                            "solidity": 0.2
                          }
                        },
                        "type": "histogram"
                      }
                    ],
                    "histogram2d": [
                      {
                        "colorbar": {
                          "outlinewidth": 0,
                          "ticks": ""
                        },
                        "colorscale": [
                          [
                            0,
                            "#0d0887"
                          ],
                          [
                            0.1111111111111111,
                            "#46039f"
                          ],
                          [
                            0.2222222222222222,
                            "#7201a8"
                          ],
                          [
                            0.3333333333333333,
                            "#9c179e"
                          ],
                          [
                            0.4444444444444444,
                            "#bd3786"
                          ],
                          [
                            0.5555555555555556,
                            "#d8576b"
                          ],
                          [
                            0.6666666666666666,
                            "#ed7953"
                          ],
                          [
                            0.7777777777777778,
                            "#fb9f3a"
                          ],
                          [
                            0.8888888888888888,
                            "#fdca26"
                          ],
                          [
                            1,
                            "#f0f921"
                          ]
                        ],
                        "type": "histogram2d"
                      }
                    ],
                    "histogram2dcontour": [
                      {
                        "colorbar": {
                          "outlinewidth": 0,
                          "ticks": ""
                        },
                        "colorscale": [
                          [
                            0,
                            "#0d0887"
                          ],
                          [
                            0.1111111111111111,
                            "#46039f"
                          ],
                          [
                            0.2222222222222222,
                            "#7201a8"
                          ],
                          [
                            0.3333333333333333,
                            "#9c179e"
                          ],
                          [
                            0.4444444444444444,
                            "#bd3786"
                          ],
                          [
                            0.5555555555555556,
                            "#d8576b"
                          ],
                          [
                            0.6666666666666666,
                            "#ed7953"
                          ],
                          [
                            0.7777777777777778,
                            "#fb9f3a"
                          ],
                          [
                            0.8888888888888888,
                            "#fdca26"
                          ],
                          [
                            1,
                            "#f0f921"
                          ]
                        ],
                        "type": "histogram2dcontour"
                      }
                    ],
                    "mesh3d": [
                      {
                        "colorbar": {
                          "outlinewidth": 0,
                          "ticks": ""
                        },
                        "type": "mesh3d"
                      }
                    ],
                    "parcoords": [
                      {
                        "line": {
                          "colorbar": {
                            "outlinewidth": 0,
                            "ticks": ""
                          }
                        },
                        "type": "parcoords"
                      }
                    ],
                    "pie": [
                      {
                        "automargin": true,
                        "type": "pie"
                      }
                    ],
                    "scatter": [
                      {
                        "fillpattern": {
                          "fillmode": "overlay",
                          "size": 10,
                          "solidity": 0.2
                        },
                        "type": "scatter"
                      }
                    ],
                    "scatter3d": [
                      {
                        "line": {
                          "colorbar": {
                            "outlinewidth": 0,
                            "ticks": ""
                          }
                        },
                        "marker": {
                          "colorbar": {
                            "outlinewidth": 0,
                            "ticks": ""
                          }
                        },
                        "type": "scatter3d"
                      }
                    ],
                    "scattercarpet": [
                      {
                        "marker": {
                          "colorbar": {
                            "outlinewidth": 0,
                            "ticks": ""
                          }
                        },
                        "type": "scattercarpet"
                      }
                    ],
                    "scattergeo": [
                      {
                        "marker": {
                          "colorbar": {
                            "outlinewidth": 0,
                            "ticks": ""
                          }
                        },
                        "type": "scattergeo"
                      }
                    ],
                    "scattergl": [
                      {
                        "marker": {
                          "colorbar": {
                            "outlinewidth": 0,
                            "ticks": ""
                          }
                        },
                        "type": "scattergl"
                      }
                    ],
                    "scattermapbox": [
                      {
                        "marker": {
                          "colorbar": {
                            "outlinewidth": 0,
                            "ticks": ""
                          }
                        },
                        "type": "scattermapbox"
                      }
                    ],
                    "scatterpolar": [
                      {
                        "marker": {
                          "colorbar": {
                            "outlinewidth": 0,
                            "ticks": ""
                          }
                        },
                        "type": "scatterpolar"
                      }
                    ],
                    "scatterpolargl": [
                      {
                        "marker": {
                          "colorbar": {
                            "outlinewidth": 0,
                            "ticks": ""
                          }
                        },
                        "type": "scatterpolargl"
                      }
                    ],
                    "scatterternary": [
                      {
                        "marker": {
                          "colorbar": {
                            "outlinewidth": 0,
                            "ticks": ""
                          }
                        },
                        "type": "scatterternary"
                      }
                    ],
                    "surface": [
                      {
                        "colorbar": {
                          "outlinewidth": 0,
                          "ticks": ""
                        },
                        "colorscale": [
                          [
                            0,
                            "#0d0887"
                          ],
                          [
                            0.1111111111111111,
                            "#46039f"
                          ],
                          [
                            0.2222222222222222,
                            "#7201a8"
                          ],
                          [
                            0.3333333333333333,
                            "#9c179e"
                          ],
                          [
                            0.4444444444444444,
                            "#bd3786"
                          ],
                          [
                            0.5555555555555556,
                            "#d8576b"
                          ],
                          [
                            0.6666666666666666,
                            "#ed7953"
                          ],
                          [
                            0.7777777777777778,
                            "#fb9f3a"
                          ],
                          [
                            0.8888888888888888,
                            "#fdca26"
                          ],
                          [
                            1,
                            "#f0f921"
                          ]
                        ],
                        "type": "surface"
                      }
                    ],
                    "table": [
                      {
                        "cells": {
                          "fill": {
                            "color": "#EBF0F8"
                          },
                          "line": {
                            "color": "white"
                          }
                        },
                        "header": {
                          "fill": {
                            "color": "#C8D4E3"
                          },
                          "line": {
                            "color": "white"
                          }
                        },
                        "type": "table"
                      }
                    ]
                  },
                  "layout": {
                    "annotationdefaults": {
                      "arrowcolor": "#2a3f5f",
                      "arrowhead": 0,
                      "arrowwidth": 1
                    },
                    "autotypenumbers": "strict",
                    "coloraxis": {
                      "colorbar": {
                        "outlinewidth": 0,
                        "ticks": ""
                      }
                    },
                    "colorscale": {
                      "diverging": [
                        [
                          0,
                          "#8e0152"
                        ],
                        [
                          0.1,
                          "#c51b7d"
                        ],
                        [
                          0.2,
                          "#de77ae"
                        ],
                        [
                          0.3,
                          "#f1b6da"
                        ],
                        [
                          0.4,
                          "#fde0ef"
                        ],
                        [
                          0.5,
                          "#f7f7f7"
                        ],
                        [
                          0.6,
                          "#e6f5d0"
                        ],
                        [
                          0.7,
                          "#b8e186"
                        ],
                        [
                          0.8,
                          "#7fbc41"
                        ],
                        [
                          0.9,
                          "#4d9221"
                        ],
                        [
                          1,
                          "#276419"
                        ]
                      ],
                      "sequential": [
                        [
                          0,
                          "#0d0887"
                        ],
                        [
                          0.1111111111111111,
                          "#46039f"
                        ],
                        [
                          0.2222222222222222,
                          "#7201a8"
                        ],
                        [
                          0.3333333333333333,
                          "#9c179e"
                        ],
                        [
                          0.4444444444444444,
                          "#bd3786"
                        ],
                        [
                          0.5555555555555556,
                          "#d8576b"
                        ],
                        [
                          0.6666666666666666,
                          "#ed7953"
                        ],
                        [
                          0.7777777777777778,
                          "#fb9f3a"
                        ],
                        [
                          0.8888888888888888,
                          "#fdca26"
                        ],
                        [
                          1,
                          "#f0f921"
                        ]
                      ],
                      "sequentialminus": [
                        [
                          0,
                          "#0d0887"
                        ],
                        [
                          0.1111111111111111,
                          "#46039f"
                        ],
                        [
                          0.2222222222222222,
                          "#7201a8"
                        ],
                        [
                          0.3333333333333333,
                          "#9c179e"
                        ],
                        [
                          0.4444444444444444,
                          "#bd3786"
                        ],
                        [
                          0.5555555555555556,
                          "#d8576b"
                        ],
                        [
                          0.6666666666666666,
                          "#ed7953"
                        ],
                        [
                          0.7777777777777778,
                          "#fb9f3a"
                        ],
                        [
                          0.8888888888888888,
                          "#fdca26"
                        ],
                        [
                          1,
                          "#f0f921"
                        ]
                      ]
                    },
                    "colorway": [
                      "#636efa",
                      "#EF553B",
                      "#00cc96",
                      "#ab63fa",
                      "#FFA15A",
                      "#19d3f3",
                      "#FF6692",
                      "#B6E880",
                      "#FF97FF",
                      "#FECB52"
                    ],
                    "font": {
                      "color": "#2a3f5f"
                    },
                    "geo": {
                      "bgcolor": "white",
                      "lakecolor": "white",
                      "landcolor": "#E5ECF6",
                      "showlakes": true,
                      "showland": true,
                      "subunitcolor": "white"
                    },
                    "hoverlabel": {
                      "align": "left"
                    },
                    "hovermode": "closest",
                    "mapbox": {
                      "style": "light"
                    },
                    "paper_bgcolor": "white",
                    "plot_bgcolor": "#E5ECF6",
                    "polar": {
                      "angularaxis": {
                        "gridcolor": "white",
                        "linecolor": "white",
                        "ticks": ""
                      },
                      "bgcolor": "#E5ECF6",
                      "radialaxis": {
                        "gridcolor": "white",
                        "linecolor": "white",
                        "ticks": ""
                      }
                    },
                    "scene": {
                      "xaxis": {
                        "backgroundcolor": "#E5ECF6",
                        "gridcolor": "white",
                        "gridwidth": 2,
                        "linecolor": "white",
                        "showbackground": true,
                        "ticks": "",
                        "zerolinecolor": "white"
                      },
                      "yaxis": {
                        "backgroundcolor": "#E5ECF6",
                        "gridcolor": "white",
                        "gridwidth": 2,
                        "linecolor": "white",
                        "showbackground": true,
                        "ticks": "",
                        "zerolinecolor": "white"
                      },
                      "zaxis": {
                        "backgroundcolor": "#E5ECF6",
                        "gridcolor": "white",
                        "gridwidth": 2,
                        "linecolor": "white",
                        "showbackground": true,
                        "ticks": "",
                        "zerolinecolor": "white"
                      }
                    },
                    "shapedefaults": {
                      "line": {
                        "color": "#2a3f5f"
                      }
                    },
                    "ternary": {
                      "aaxis": {
                        "gridcolor": "white",
                        "linecolor": "white",
                        "ticks": ""
                      },
                      "baxis": {
                        "gridcolor": "white",
                        "linecolor": "white",
                        "ticks": ""
                      },
                      "bgcolor": "#E5ECF6",
                      "caxis": {
                        "gridcolor": "white",
                        "linecolor": "white",
                        "ticks": ""
                      }
                    },
                    "title": {
                      "x": 0.05
                    },
                    "xaxis": {
                      "automargin": true,
                      "gridcolor": "white",
                      "linecolor": "white",
                      "ticks": "",
                      "title": {
                        "standoff": 15
                      },
                      "zerolinecolor": "white",
                      "zerolinewidth": 2
                    },
                    "yaxis": {
                      "automargin": true,
                      "gridcolor": "white",
                      "linecolor": "white",
                      "ticks": "",
                      "title": {
                        "standoff": 15
                      },
                      "zerolinecolor": "white",
                      "zerolinewidth": 2
                    }
                  }
                },
                "xaxis": {
                  "anchor": "y",
                  "domain": [
                    0,
                    1
                  ],
                  "title": {
                    "text": "Date"
                  }
                },
                "yaxis": {
                  "anchor": "x",
                  "domain": [
                    0,
                    1
                  ],
                  "title": {
                    "text": "value"
                  }
                }
              }
            }
          },
          "metadata": {},
          "output_type": "display_data"
        }
      ],
      "source": [
        "# Plot it\n",
        "px.line(pdf_processed.sales)"
      ]
    },
    {
      "cell_type": "code",
      "execution_count": 7,
      "metadata": {},
      "outputs": [
        {
          "data": {
            "application/vnd.plotly.v1+json": {
              "config": {
                "plotlyServerURL": "https://plot.ly"
              },
              "data": [
                {
                  "alignmentgroup": "True",
                  "hovertemplate": "variable=tv_1<br>Date=%{x}<br>value=%{y}<extra></extra>",
                  "legendgroup": "tv_1",
                  "marker": {
                    "color": "#636efa",
                    "pattern": {
                      "shape": ""
                    }
                  },
                  "name": "tv_1",
                  "offsetgroup": "tv_1",
                  "orientation": "v",
                  "showlegend": true,
                  "textposition": "auto",
                  "type": "bar",
                  "x": [
                    "2019-01-13T00:00:00",
                    "2019-01-20T00:00:00",
                    "2019-01-27T00:00:00",
                    "2019-02-03T00:00:00",
                    "2019-02-10T00:00:00",
                    "2019-02-17T00:00:00",
                    "2019-02-24T00:00:00",
                    "2019-03-03T00:00:00",
                    "2019-03-10T00:00:00",
                    "2019-03-17T00:00:00",
                    "2019-03-24T00:00:00",
                    "2019-03-31T00:00:00",
                    "2019-04-07T00:00:00",
                    "2019-04-14T00:00:00",
                    "2019-04-21T00:00:00",
                    "2019-04-28T00:00:00",
                    "2019-05-05T00:00:00",
                    "2019-05-12T00:00:00",
                    "2019-05-19T00:00:00",
                    "2019-05-26T00:00:00",
                    "2019-06-02T00:00:00",
                    "2019-06-09T00:00:00",
                    "2019-06-16T00:00:00",
                    "2019-06-23T00:00:00",
                    "2019-06-30T00:00:00",
                    "2019-07-07T00:00:00",
                    "2019-07-14T00:00:00",
                    "2019-07-21T00:00:00",
                    "2019-07-28T00:00:00",
                    "2019-08-04T00:00:00",
                    "2019-08-11T00:00:00",
                    "2019-08-18T00:00:00",
                    "2019-08-25T00:00:00",
                    "2019-09-01T00:00:00",
                    "2019-09-08T00:00:00",
                    "2019-09-15T00:00:00",
                    "2019-09-22T00:00:00",
                    "2019-09-29T00:00:00",
                    "2019-10-06T00:00:00",
                    "2019-10-13T00:00:00",
                    "2019-10-20T00:00:00",
                    "2019-10-27T00:00:00",
                    "2019-11-03T00:00:00",
                    "2019-11-10T00:00:00",
                    "2019-11-17T00:00:00",
                    "2019-11-24T00:00:00",
                    "2019-12-01T00:00:00",
                    "2019-12-08T00:00:00",
                    "2019-12-15T00:00:00",
                    "2019-12-22T00:00:00",
                    "2019-12-29T00:00:00",
                    "2020-01-05T00:00:00",
                    "2020-01-12T00:00:00",
                    "2020-01-19T00:00:00",
                    "2020-01-26T00:00:00",
                    "2020-02-02T00:00:00",
                    "2020-02-09T00:00:00",
                    "2020-02-16T00:00:00",
                    "2020-02-23T00:00:00",
                    "2020-03-01T00:00:00",
                    "2020-03-08T00:00:00",
                    "2020-03-15T00:00:00",
                    "2020-03-22T00:00:00",
                    "2020-03-29T00:00:00",
                    "2020-04-05T00:00:00",
                    "2020-04-12T00:00:00",
                    "2020-04-19T00:00:00",
                    "2020-04-26T00:00:00",
                    "2020-05-03T00:00:00",
                    "2020-05-10T00:00:00",
                    "2020-05-17T00:00:00",
                    "2020-05-24T00:00:00",
                    "2020-05-31T00:00:00",
                    "2020-06-07T00:00:00",
                    "2020-06-14T00:00:00",
                    "2020-06-21T00:00:00",
                    "2020-06-28T00:00:00",
                    "2020-07-05T00:00:00",
                    "2020-07-12T00:00:00",
                    "2020-07-19T00:00:00",
                    "2020-07-26T00:00:00",
                    "2020-08-02T00:00:00",
                    "2020-08-09T00:00:00",
                    "2020-08-16T00:00:00",
                    "2020-08-23T00:00:00",
                    "2020-08-30T00:00:00",
                    "2020-09-06T00:00:00",
                    "2020-09-13T00:00:00",
                    "2020-09-20T00:00:00",
                    "2020-09-27T00:00:00",
                    "2020-10-04T00:00:00",
                    "2020-10-11T00:00:00",
                    "2020-10-18T00:00:00",
                    "2020-10-25T00:00:00",
                    "2020-11-01T00:00:00",
                    "2020-11-08T00:00:00",
                    "2020-11-15T00:00:00",
                    "2020-11-22T00:00:00",
                    "2020-11-29T00:00:00",
                    "2020-12-06T00:00:00",
                    "2020-12-13T00:00:00",
                    "2020-12-20T00:00:00",
                    "2020-12-27T00:00:00",
                    "2021-01-03T00:00:00",
                    "2021-01-10T00:00:00",
                    "2021-01-17T00:00:00",
                    "2021-01-24T00:00:00",
                    "2021-01-31T00:00:00",
                    "2021-02-07T00:00:00",
                    "2021-02-14T00:00:00",
                    "2021-02-21T00:00:00",
                    "2021-02-28T00:00:00",
                    "2021-03-07T00:00:00",
                    "2021-03-14T00:00:00",
                    "2021-03-21T00:00:00",
                    "2021-03-28T00:00:00",
                    "2021-04-04T00:00:00",
                    "2021-04-11T00:00:00",
                    "2021-04-18T00:00:00",
                    "2021-04-25T00:00:00",
                    "2021-05-02T00:00:00",
                    "2021-05-09T00:00:00",
                    "2021-05-16T00:00:00",
                    "2021-05-23T00:00:00",
                    "2021-05-30T00:00:00",
                    "2021-06-06T00:00:00",
                    "2021-06-13T00:00:00",
                    "2021-06-20T00:00:00",
                    "2021-06-27T00:00:00",
                    "2021-07-04T00:00:00",
                    "2021-07-11T00:00:00",
                    "2021-07-18T00:00:00"
                  ],
                  "xaxis": "x",
                  "y": [
                    605,
                    508,
                    0,
                    0,
                    0,
                    0,
                    0,
                    0,
                    0,
                    0,
                    0,
                    0,
                    0,
                    0,
                    0,
                    0,
                    0,
                    0,
                    0,
                    0,
                    0,
                    0,
                    0,
                    0,
                    0,
                    0,
                    0,
                    0,
                    0,
                    0,
                    0,
                    684,
                    536,
                    671,
                    501,
                    501,
                    696,
                    0,
                    621,
                    676,
                    613,
                    697,
                    696,
                    652,
                    559,
                    653,
                    605,
                    553,
                    0,
                    524,
                    515,
                    603,
                    549,
                    681,
                    532,
                    620,
                    613,
                    654,
                    0,
                    0,
                    0,
                    0,
                    0,
                    0,
                    0,
                    0,
                    0,
                    0,
                    0,
                    0,
                    0,
                    0,
                    0,
                    0,
                    0,
                    0,
                    0,
                    0,
                    0,
                    0,
                    0,
                    0,
                    514,
                    543,
                    653,
                    682,
                    542,
                    628,
                    672,
                    522,
                    505,
                    0,
                    0,
                    0,
                    0,
                    0,
                    0,
                    0,
                    606,
                    508,
                    0,
                    595,
                    689,
                    545,
                    552,
                    520,
                    589,
                    700,
                    510,
                    502,
                    551,
                    677,
                    661,
                    0,
                    0,
                    0,
                    0,
                    0,
                    0,
                    0,
                    0,
                    0,
                    0,
                    0,
                    0,
                    614,
                    0,
                    0,
                    0,
                    0,
                    0,
                    0
                  ],
                  "yaxis": "y"
                },
                {
                  "alignmentgroup": "True",
                  "hovertemplate": "variable=tv_2<br>Date=%{x}<br>value=%{y}<extra></extra>",
                  "legendgroup": "tv_2",
                  "marker": {
                    "color": "#EF553B",
                    "pattern": {
                      "shape": ""
                    }
                  },
                  "name": "tv_2",
                  "offsetgroup": "tv_2",
                  "orientation": "v",
                  "showlegend": true,
                  "textposition": "auto",
                  "type": "bar",
                  "x": [
                    "2019-01-13T00:00:00",
                    "2019-01-20T00:00:00",
                    "2019-01-27T00:00:00",
                    "2019-02-03T00:00:00",
                    "2019-02-10T00:00:00",
                    "2019-02-17T00:00:00",
                    "2019-02-24T00:00:00",
                    "2019-03-03T00:00:00",
                    "2019-03-10T00:00:00",
                    "2019-03-17T00:00:00",
                    "2019-03-24T00:00:00",
                    "2019-03-31T00:00:00",
                    "2019-04-07T00:00:00",
                    "2019-04-14T00:00:00",
                    "2019-04-21T00:00:00",
                    "2019-04-28T00:00:00",
                    "2019-05-05T00:00:00",
                    "2019-05-12T00:00:00",
                    "2019-05-19T00:00:00",
                    "2019-05-26T00:00:00",
                    "2019-06-02T00:00:00",
                    "2019-06-09T00:00:00",
                    "2019-06-16T00:00:00",
                    "2019-06-23T00:00:00",
                    "2019-06-30T00:00:00",
                    "2019-07-07T00:00:00",
                    "2019-07-14T00:00:00",
                    "2019-07-21T00:00:00",
                    "2019-07-28T00:00:00",
                    "2019-08-04T00:00:00",
                    "2019-08-11T00:00:00",
                    "2019-08-18T00:00:00",
                    "2019-08-25T00:00:00",
                    "2019-09-01T00:00:00",
                    "2019-09-08T00:00:00",
                    "2019-09-15T00:00:00",
                    "2019-09-22T00:00:00",
                    "2019-09-29T00:00:00",
                    "2019-10-06T00:00:00",
                    "2019-10-13T00:00:00",
                    "2019-10-20T00:00:00",
                    "2019-10-27T00:00:00",
                    "2019-11-03T00:00:00",
                    "2019-11-10T00:00:00",
                    "2019-11-17T00:00:00",
                    "2019-11-24T00:00:00",
                    "2019-12-01T00:00:00",
                    "2019-12-08T00:00:00",
                    "2019-12-15T00:00:00",
                    "2019-12-22T00:00:00",
                    "2019-12-29T00:00:00",
                    "2020-01-05T00:00:00",
                    "2020-01-12T00:00:00",
                    "2020-01-19T00:00:00",
                    "2020-01-26T00:00:00",
                    "2020-02-02T00:00:00",
                    "2020-02-09T00:00:00",
                    "2020-02-16T00:00:00",
                    "2020-02-23T00:00:00",
                    "2020-03-01T00:00:00",
                    "2020-03-08T00:00:00",
                    "2020-03-15T00:00:00",
                    "2020-03-22T00:00:00",
                    "2020-03-29T00:00:00",
                    "2020-04-05T00:00:00",
                    "2020-04-12T00:00:00",
                    "2020-04-19T00:00:00",
                    "2020-04-26T00:00:00",
                    "2020-05-03T00:00:00",
                    "2020-05-10T00:00:00",
                    "2020-05-17T00:00:00",
                    "2020-05-24T00:00:00",
                    "2020-05-31T00:00:00",
                    "2020-06-07T00:00:00",
                    "2020-06-14T00:00:00",
                    "2020-06-21T00:00:00",
                    "2020-06-28T00:00:00",
                    "2020-07-05T00:00:00",
                    "2020-07-12T00:00:00",
                    "2020-07-19T00:00:00",
                    "2020-07-26T00:00:00",
                    "2020-08-02T00:00:00",
                    "2020-08-09T00:00:00",
                    "2020-08-16T00:00:00",
                    "2020-08-23T00:00:00",
                    "2020-08-30T00:00:00",
                    "2020-09-06T00:00:00",
                    "2020-09-13T00:00:00",
                    "2020-09-20T00:00:00",
                    "2020-09-27T00:00:00",
                    "2020-10-04T00:00:00",
                    "2020-10-11T00:00:00",
                    "2020-10-18T00:00:00",
                    "2020-10-25T00:00:00",
                    "2020-11-01T00:00:00",
                    "2020-11-08T00:00:00",
                    "2020-11-15T00:00:00",
                    "2020-11-22T00:00:00",
                    "2020-11-29T00:00:00",
                    "2020-12-06T00:00:00",
                    "2020-12-13T00:00:00",
                    "2020-12-20T00:00:00",
                    "2020-12-27T00:00:00",
                    "2021-01-03T00:00:00",
                    "2021-01-10T00:00:00",
                    "2021-01-17T00:00:00",
                    "2021-01-24T00:00:00",
                    "2021-01-31T00:00:00",
                    "2021-02-07T00:00:00",
                    "2021-02-14T00:00:00",
                    "2021-02-21T00:00:00",
                    "2021-02-28T00:00:00",
                    "2021-03-07T00:00:00",
                    "2021-03-14T00:00:00",
                    "2021-03-21T00:00:00",
                    "2021-03-28T00:00:00",
                    "2021-04-04T00:00:00",
                    "2021-04-11T00:00:00",
                    "2021-04-18T00:00:00",
                    "2021-04-25T00:00:00",
                    "2021-05-02T00:00:00",
                    "2021-05-09T00:00:00",
                    "2021-05-16T00:00:00",
                    "2021-05-23T00:00:00",
                    "2021-05-30T00:00:00",
                    "2021-06-06T00:00:00",
                    "2021-06-13T00:00:00",
                    "2021-06-20T00:00:00",
                    "2021-06-27T00:00:00",
                    "2021-07-04T00:00:00",
                    "2021-07-11T00:00:00",
                    "2021-07-18T00:00:00"
                  ],
                  "xaxis": "x",
                  "y": [
                    125,
                    167,
                    166,
                    191,
                    158,
                    182,
                    144,
                    115,
                    191,
                    185,
                    165,
                    186,
                    174,
                    176,
                    128,
                    169,
                    140,
                    197,
                    157,
                    164,
                    177,
                    138,
                    188,
                    145,
                    136,
                    151,
                    0,
                    0,
                    0,
                    0,
                    0,
                    0,
                    0,
                    157,
                    129,
                    107,
                    107,
                    166,
                    191,
                    186,
                    139,
                    153,
                    169,
                    160,
                    102,
                    118,
                    161,
                    192,
                    130,
                    128,
                    136,
                    167,
                    166,
                    186,
                    151,
                    188,
                    110,
                    105,
                    116,
                    134,
                    163,
                    153,
                    163,
                    183,
                    111,
                    0,
                    0,
                    0,
                    0,
                    0,
                    0,
                    0,
                    0,
                    0,
                    0,
                    0,
                    0,
                    0,
                    0,
                    0,
                    0,
                    0,
                    0,
                    0,
                    0,
                    170,
                    187,
                    190,
                    171,
                    101,
                    140,
                    151,
                    175,
                    188,
                    187,
                    177,
                    172,
                    110,
                    194,
                    140,
                    152,
                    154,
                    158,
                    124,
                    120,
                    167,
                    118,
                    145,
                    190,
                    182,
                    192,
                    161,
                    189,
                    137,
                    118,
                    194,
                    124,
                    173,
                    0,
                    0,
                    0,
                    0,
                    177,
                    0,
                    131,
                    0,
                    0,
                    0,
                    111,
                    174,
                    0,
                    0
                  ],
                  "yaxis": "y"
                },
                {
                  "alignmentgroup": "True",
                  "hovertemplate": "variable=tv_3<br>Date=%{x}<br>value=%{y}<extra></extra>",
                  "legendgroup": "tv_3",
                  "marker": {
                    "color": "#00cc96",
                    "pattern": {
                      "shape": ""
                    }
                  },
                  "name": "tv_3",
                  "offsetgroup": "tv_3",
                  "orientation": "v",
                  "showlegend": true,
                  "textposition": "auto",
                  "type": "bar",
                  "x": [
                    "2019-01-13T00:00:00",
                    "2019-01-20T00:00:00",
                    "2019-01-27T00:00:00",
                    "2019-02-03T00:00:00",
                    "2019-02-10T00:00:00",
                    "2019-02-17T00:00:00",
                    "2019-02-24T00:00:00",
                    "2019-03-03T00:00:00",
                    "2019-03-10T00:00:00",
                    "2019-03-17T00:00:00",
                    "2019-03-24T00:00:00",
                    "2019-03-31T00:00:00",
                    "2019-04-07T00:00:00",
                    "2019-04-14T00:00:00",
                    "2019-04-21T00:00:00",
                    "2019-04-28T00:00:00",
                    "2019-05-05T00:00:00",
                    "2019-05-12T00:00:00",
                    "2019-05-19T00:00:00",
                    "2019-05-26T00:00:00",
                    "2019-06-02T00:00:00",
                    "2019-06-09T00:00:00",
                    "2019-06-16T00:00:00",
                    "2019-06-23T00:00:00",
                    "2019-06-30T00:00:00",
                    "2019-07-07T00:00:00",
                    "2019-07-14T00:00:00",
                    "2019-07-21T00:00:00",
                    "2019-07-28T00:00:00",
                    "2019-08-04T00:00:00",
                    "2019-08-11T00:00:00",
                    "2019-08-18T00:00:00",
                    "2019-08-25T00:00:00",
                    "2019-09-01T00:00:00",
                    "2019-09-08T00:00:00",
                    "2019-09-15T00:00:00",
                    "2019-09-22T00:00:00",
                    "2019-09-29T00:00:00",
                    "2019-10-06T00:00:00",
                    "2019-10-13T00:00:00",
                    "2019-10-20T00:00:00",
                    "2019-10-27T00:00:00",
                    "2019-11-03T00:00:00",
                    "2019-11-10T00:00:00",
                    "2019-11-17T00:00:00",
                    "2019-11-24T00:00:00",
                    "2019-12-01T00:00:00",
                    "2019-12-08T00:00:00",
                    "2019-12-15T00:00:00",
                    "2019-12-22T00:00:00",
                    "2019-12-29T00:00:00",
                    "2020-01-05T00:00:00",
                    "2020-01-12T00:00:00",
                    "2020-01-19T00:00:00",
                    "2020-01-26T00:00:00",
                    "2020-02-02T00:00:00",
                    "2020-02-09T00:00:00",
                    "2020-02-16T00:00:00",
                    "2020-02-23T00:00:00",
                    "2020-03-01T00:00:00",
                    "2020-03-08T00:00:00",
                    "2020-03-15T00:00:00",
                    "2020-03-22T00:00:00",
                    "2020-03-29T00:00:00",
                    "2020-04-05T00:00:00",
                    "2020-04-12T00:00:00",
                    "2020-04-19T00:00:00",
                    "2020-04-26T00:00:00",
                    "2020-05-03T00:00:00",
                    "2020-05-10T00:00:00",
                    "2020-05-17T00:00:00",
                    "2020-05-24T00:00:00",
                    "2020-05-31T00:00:00",
                    "2020-06-07T00:00:00",
                    "2020-06-14T00:00:00",
                    "2020-06-21T00:00:00",
                    "2020-06-28T00:00:00",
                    "2020-07-05T00:00:00",
                    "2020-07-12T00:00:00",
                    "2020-07-19T00:00:00",
                    "2020-07-26T00:00:00",
                    "2020-08-02T00:00:00",
                    "2020-08-09T00:00:00",
                    "2020-08-16T00:00:00",
                    "2020-08-23T00:00:00",
                    "2020-08-30T00:00:00",
                    "2020-09-06T00:00:00",
                    "2020-09-13T00:00:00",
                    "2020-09-20T00:00:00",
                    "2020-09-27T00:00:00",
                    "2020-10-04T00:00:00",
                    "2020-10-11T00:00:00",
                    "2020-10-18T00:00:00",
                    "2020-10-25T00:00:00",
                    "2020-11-01T00:00:00",
                    "2020-11-08T00:00:00",
                    "2020-11-15T00:00:00",
                    "2020-11-22T00:00:00",
                    "2020-11-29T00:00:00",
                    "2020-12-06T00:00:00",
                    "2020-12-13T00:00:00",
                    "2020-12-20T00:00:00",
                    "2020-12-27T00:00:00",
                    "2021-01-03T00:00:00",
                    "2021-01-10T00:00:00",
                    "2021-01-17T00:00:00",
                    "2021-01-24T00:00:00",
                    "2021-01-31T00:00:00",
                    "2021-02-07T00:00:00",
                    "2021-02-14T00:00:00",
                    "2021-02-21T00:00:00",
                    "2021-02-28T00:00:00",
                    "2021-03-07T00:00:00",
                    "2021-03-14T00:00:00",
                    "2021-03-21T00:00:00",
                    "2021-03-28T00:00:00",
                    "2021-04-04T00:00:00",
                    "2021-04-11T00:00:00",
                    "2021-04-18T00:00:00",
                    "2021-04-25T00:00:00",
                    "2021-05-02T00:00:00",
                    "2021-05-09T00:00:00",
                    "2021-05-16T00:00:00",
                    "2021-05-23T00:00:00",
                    "2021-05-30T00:00:00",
                    "2021-06-06T00:00:00",
                    "2021-06-13T00:00:00",
                    "2021-06-20T00:00:00",
                    "2021-06-27T00:00:00",
                    "2021-07-04T00:00:00",
                    "2021-07-11T00:00:00",
                    "2021-07-18T00:00:00"
                  ],
                  "xaxis": "x",
                  "y": [
                    37.38170556,
                    34.7662177,
                    46.75600116,
                    47.21840496,
                    44.30340629,
                    31.13634062,
                    31.60303328,
                    24.02518503,
                    20.6200727,
                    23.50130952,
                    25.2094392,
                    29.47750936,
                    0,
                    0,
                    0,
                    0,
                    0,
                    0,
                    0,
                    0,
                    0,
                    0,
                    0,
                    0,
                    0,
                    0,
                    0,
                    0,
                    0,
                    0,
                    0,
                    0,
                    0,
                    0,
                    24.43649352,
                    26.5712889,
                    35.520542850000005,
                    37.122621120000005,
                    27.9052734,
                    35.42361524,
                    29.7756646,
                    24.4022029,
                    27.56343601,
                    28.32136197,
                    38.35888407,
                    38.92023785,
                    31.5375736,
                    39.79441141,
                    39.76539489,
                    36.58828944,
                    30.742779871600007,
                    30.544737913580008,
                    31.99360490403999,
                    27.560065380400008,
                    40.29834590093001,
                    31.6872111856,
                    30.421668097100007,
                    29.758103823250003,
                    36.93635651433,
                    32.93809192773001,
                    41.19892942224,
                    37.9846383486,
                    27.06406095562,
                    16.235124081199995,
                    13.22618374484,
                    0,
                    0,
                    0,
                    0,
                    0,
                    0,
                    0,
                    0,
                    0,
                    0,
                    0,
                    0,
                    0,
                    0,
                    0,
                    0,
                    0,
                    0,
                    0,
                    0,
                    0,
                    0,
                    21.2356855788,
                    23.255157631160003,
                    25.25426186686001,
                    23.70964356036,
                    23.020489265620004,
                    19.80973285434,
                    18.7266803332,
                    18.65591647668,
                    16.717380074589997,
                    16.77434716581,
                    15.79122868452,
                    18.133529571690005,
                    19.468535015150003,
                    14.8783192292,
                    15.1475848117,
                    15.203994107499996,
                    18.90261501516,
                    19.18706782681,
                    19.25195802984,
                    19.37418455148,
                    22.82124008086,
                    21.30868484085,
                    20.222692525640003,
                    17.579333706329994,
                    18.771926430479997,
                    15.461007647000004,
                    19.43853112032,
                    16.765098727700003,
                    18.55809294438,
                    16.3173571466,
                    0,
                    0,
                    0,
                    0,
                    0,
                    0,
                    0,
                    0,
                    0,
                    0,
                    0,
                    0,
                    0,
                    0,
                    0
                  ],
                  "yaxis": "y"
                },
                {
                  "alignmentgroup": "True",
                  "hovertemplate": "variable=promo<br>Date=%{x}<br>value=%{y}<extra></extra>",
                  "legendgroup": "promo",
                  "marker": {
                    "color": "#ab63fa",
                    "pattern": {
                      "shape": ""
                    }
                  },
                  "name": "promo",
                  "offsetgroup": "promo",
                  "orientation": "v",
                  "showlegend": true,
                  "textposition": "auto",
                  "type": "bar",
                  "x": [
                    "2019-01-13T00:00:00",
                    "2019-01-20T00:00:00",
                    "2019-01-27T00:00:00",
                    "2019-02-03T00:00:00",
                    "2019-02-10T00:00:00",
                    "2019-02-17T00:00:00",
                    "2019-02-24T00:00:00",
                    "2019-03-03T00:00:00",
                    "2019-03-10T00:00:00",
                    "2019-03-17T00:00:00",
                    "2019-03-24T00:00:00",
                    "2019-03-31T00:00:00",
                    "2019-04-07T00:00:00",
                    "2019-04-14T00:00:00",
                    "2019-04-21T00:00:00",
                    "2019-04-28T00:00:00",
                    "2019-05-05T00:00:00",
                    "2019-05-12T00:00:00",
                    "2019-05-19T00:00:00",
                    "2019-05-26T00:00:00",
                    "2019-06-02T00:00:00",
                    "2019-06-09T00:00:00",
                    "2019-06-16T00:00:00",
                    "2019-06-23T00:00:00",
                    "2019-06-30T00:00:00",
                    "2019-07-07T00:00:00",
                    "2019-07-14T00:00:00",
                    "2019-07-21T00:00:00",
                    "2019-07-28T00:00:00",
                    "2019-08-04T00:00:00",
                    "2019-08-11T00:00:00",
                    "2019-08-18T00:00:00",
                    "2019-08-25T00:00:00",
                    "2019-09-01T00:00:00",
                    "2019-09-08T00:00:00",
                    "2019-09-15T00:00:00",
                    "2019-09-22T00:00:00",
                    "2019-09-29T00:00:00",
                    "2019-10-06T00:00:00",
                    "2019-10-13T00:00:00",
                    "2019-10-20T00:00:00",
                    "2019-10-27T00:00:00",
                    "2019-11-03T00:00:00",
                    "2019-11-10T00:00:00",
                    "2019-11-17T00:00:00",
                    "2019-11-24T00:00:00",
                    "2019-12-01T00:00:00",
                    "2019-12-08T00:00:00",
                    "2019-12-15T00:00:00",
                    "2019-12-22T00:00:00",
                    "2019-12-29T00:00:00",
                    "2020-01-05T00:00:00",
                    "2020-01-12T00:00:00",
                    "2020-01-19T00:00:00",
                    "2020-01-26T00:00:00",
                    "2020-02-02T00:00:00",
                    "2020-02-09T00:00:00",
                    "2020-02-16T00:00:00",
                    "2020-02-23T00:00:00",
                    "2020-03-01T00:00:00",
                    "2020-03-08T00:00:00",
                    "2020-03-15T00:00:00",
                    "2020-03-22T00:00:00",
                    "2020-03-29T00:00:00",
                    "2020-04-05T00:00:00",
                    "2020-04-12T00:00:00",
                    "2020-04-19T00:00:00",
                    "2020-04-26T00:00:00",
                    "2020-05-03T00:00:00",
                    "2020-05-10T00:00:00",
                    "2020-05-17T00:00:00",
                    "2020-05-24T00:00:00",
                    "2020-05-31T00:00:00",
                    "2020-06-07T00:00:00",
                    "2020-06-14T00:00:00",
                    "2020-06-21T00:00:00",
                    "2020-06-28T00:00:00",
                    "2020-07-05T00:00:00",
                    "2020-07-12T00:00:00",
                    "2020-07-19T00:00:00",
                    "2020-07-26T00:00:00",
                    "2020-08-02T00:00:00",
                    "2020-08-09T00:00:00",
                    "2020-08-16T00:00:00",
                    "2020-08-23T00:00:00",
                    "2020-08-30T00:00:00",
                    "2020-09-06T00:00:00",
                    "2020-09-13T00:00:00",
                    "2020-09-20T00:00:00",
                    "2020-09-27T00:00:00",
                    "2020-10-04T00:00:00",
                    "2020-10-11T00:00:00",
                    "2020-10-18T00:00:00",
                    "2020-10-25T00:00:00",
                    "2020-11-01T00:00:00",
                    "2020-11-08T00:00:00",
                    "2020-11-15T00:00:00",
                    "2020-11-22T00:00:00",
                    "2020-11-29T00:00:00",
                    "2020-12-06T00:00:00",
                    "2020-12-13T00:00:00",
                    "2020-12-20T00:00:00",
                    "2020-12-27T00:00:00",
                    "2021-01-03T00:00:00",
                    "2021-01-10T00:00:00",
                    "2021-01-17T00:00:00",
                    "2021-01-24T00:00:00",
                    "2021-01-31T00:00:00",
                    "2021-02-07T00:00:00",
                    "2021-02-14T00:00:00",
                    "2021-02-21T00:00:00",
                    "2021-02-28T00:00:00",
                    "2021-03-07T00:00:00",
                    "2021-03-14T00:00:00",
                    "2021-03-21T00:00:00",
                    "2021-03-28T00:00:00",
                    "2021-04-04T00:00:00",
                    "2021-04-11T00:00:00",
                    "2021-04-18T00:00:00",
                    "2021-04-25T00:00:00",
                    "2021-05-02T00:00:00",
                    "2021-05-09T00:00:00",
                    "2021-05-16T00:00:00",
                    "2021-05-23T00:00:00",
                    "2021-05-30T00:00:00",
                    "2021-06-06T00:00:00",
                    "2021-06-13T00:00:00",
                    "2021-06-20T00:00:00",
                    "2021-06-27T00:00:00",
                    "2021-07-04T00:00:00",
                    "2021-07-11T00:00:00",
                    "2021-07-18T00:00:00"
                  ],
                  "xaxis": "x",
                  "y": [
                    12.51464516129032,
                    12.51464516129032,
                    12.51464516129032,
                    8.999761520737326,
                    4.31325,
                    4.31325,
                    4.31325,
                    4.247391705069124,
                    4.159580645161291,
                    4.159580645161291,
                    4.159580645161291,
                    4.159580645161291,
                    7.026600000000002,
                    7.026600000000002,
                    7.026600000000002,
                    7.026600000000002,
                    6.86469677419355,
                    6.799935483870969,
                    6.799935483870969,
                    6.799935483870969,
                    6.456496774193549,
                    5.5979,
                    5.5979,
                    5.5979,
                    5.5979,
                    18.40277419354839,
                    18.40277419354839,
                    18.40277419354839,
                    18.40277419354839,
                    18.40277419354839,
                    18.40277419354839,
                    18.40277419354839,
                    18.40277419354839,
                    16.78227311827957,
                    7.059266666666666,
                    7.059266666666666,
                    7.059266666666666,
                    7.059266666666666,
                    8.834208602150538,
                    9.130032258064515,
                    9.130032258064515,
                    9.130032258064515,
                    9.26046129032258,
                    9.434366666666666,
                    9.434366666666666,
                    9.434366666666666,
                    9.02934193548387,
                    6.599193548387097,
                    6.599193548387097,
                    6.599193548387097,
                    6.599193548387097,
                    3.9016129032258062,
                    2.82258064516129,
                    2.82258064516129,
                    2.82258064516129,
                    2.8781979977753056,
                    3.0172413793103448,
                    3.0172413793103448,
                    3.0172413793103448,
                    2.9894327030033367,
                    2.82258064516129,
                    2.82258064516129,
                    2.82258064516129,
                    2.82258064516129,
                    5.019118279569892,
                    5.897733333333333,
                    5.897733333333333,
                    5.897733333333333,
                    5.816197849462366,
                    5.707483870967742,
                    5.707483870967742,
                    5.707483870967742,
                    5.707483870967742,
                    5.897733333333333,
                    5.897733333333333,
                    5.897733333333333,
                    5.897733333333333,
                    5.761840860215054,
                    5.707483870967742,
                    5.707483870967742,
                    5.707483870967742,
                    5.707483870967742,
                    5.707483870967742,
                    5.707483870967742,
                    5.707483870967742,
                    5.707483870967742,
                    3.914354838709677,
                    3.6155,
                    3.6155,
                    3.6155,
                    4.073112903225806,
                    4.416322580645161,
                    4.416322580645161,
                    4.416322580645161,
                    4.437352688172044,
                    4.563533333333334,
                    4.563533333333334,
                    4.563533333333334,
                    4.563533333333334,
                    8.0698688172043,
                    8.654258064516128,
                    8.654258064516128,
                    8.654258064516128,
                    8.654258064516128,
                    8.654258064516128,
                    8.654258064516128,
                    8.654258064516128,
                    8.654258064516128,
                    11.03,
                    11.03,
                    11.03,
                    11.03,
                    3.966516129032257,
                    3.966516129032257,
                    3.966516129032257,
                    3.966516129032257,
                    4.042068817204301,
                    4.098733333333334,
                    4.098733333333334,
                    4.098733333333334,
                    4.060956989247312,
                    3.966516129032257,
                    3.966516129032257,
                    3.966516129032257,
                    3.966516129032257,
                    4.079845161290322,
                    4.098733333333334,
                    4.098733333333334,
                    4.098733333333334,
                    4.02318064516129,
                    3.966516129032257,
                    0.5666451612903225
                  ],
                  "yaxis": "y"
                },
                {
                  "alignmentgroup": "True",
                  "hovertemplate": "variable=onsite<br>Date=%{x}<br>value=%{y}<extra></extra>",
                  "legendgroup": "onsite",
                  "marker": {
                    "color": "#FFA15A",
                    "pattern": {
                      "shape": ""
                    }
                  },
                  "name": "onsite",
                  "offsetgroup": "onsite",
                  "orientation": "v",
                  "showlegend": true,
                  "textposition": "auto",
                  "type": "bar",
                  "x": [
                    "2019-01-13T00:00:00",
                    "2019-01-20T00:00:00",
                    "2019-01-27T00:00:00",
                    "2019-02-03T00:00:00",
                    "2019-02-10T00:00:00",
                    "2019-02-17T00:00:00",
                    "2019-02-24T00:00:00",
                    "2019-03-03T00:00:00",
                    "2019-03-10T00:00:00",
                    "2019-03-17T00:00:00",
                    "2019-03-24T00:00:00",
                    "2019-03-31T00:00:00",
                    "2019-04-07T00:00:00",
                    "2019-04-14T00:00:00",
                    "2019-04-21T00:00:00",
                    "2019-04-28T00:00:00",
                    "2019-05-05T00:00:00",
                    "2019-05-12T00:00:00",
                    "2019-05-19T00:00:00",
                    "2019-05-26T00:00:00",
                    "2019-06-02T00:00:00",
                    "2019-06-09T00:00:00",
                    "2019-06-16T00:00:00",
                    "2019-06-23T00:00:00",
                    "2019-06-30T00:00:00",
                    "2019-07-07T00:00:00",
                    "2019-07-14T00:00:00",
                    "2019-07-21T00:00:00",
                    "2019-07-28T00:00:00",
                    "2019-08-04T00:00:00",
                    "2019-08-11T00:00:00",
                    "2019-08-18T00:00:00",
                    "2019-08-25T00:00:00",
                    "2019-09-01T00:00:00",
                    "2019-09-08T00:00:00",
                    "2019-09-15T00:00:00",
                    "2019-09-22T00:00:00",
                    "2019-09-29T00:00:00",
                    "2019-10-06T00:00:00",
                    "2019-10-13T00:00:00",
                    "2019-10-20T00:00:00",
                    "2019-10-27T00:00:00",
                    "2019-11-03T00:00:00",
                    "2019-11-10T00:00:00",
                    "2019-11-17T00:00:00",
                    "2019-11-24T00:00:00",
                    "2019-12-01T00:00:00",
                    "2019-12-08T00:00:00",
                    "2019-12-15T00:00:00",
                    "2019-12-22T00:00:00",
                    "2019-12-29T00:00:00",
                    "2020-01-05T00:00:00",
                    "2020-01-12T00:00:00",
                    "2020-01-19T00:00:00",
                    "2020-01-26T00:00:00",
                    "2020-02-02T00:00:00",
                    "2020-02-09T00:00:00",
                    "2020-02-16T00:00:00",
                    "2020-02-23T00:00:00",
                    "2020-03-01T00:00:00",
                    "2020-03-08T00:00:00",
                    "2020-03-15T00:00:00",
                    "2020-03-22T00:00:00",
                    "2020-03-29T00:00:00",
                    "2020-04-05T00:00:00",
                    "2020-04-12T00:00:00",
                    "2020-04-19T00:00:00",
                    "2020-04-26T00:00:00",
                    "2020-05-03T00:00:00",
                    "2020-05-10T00:00:00",
                    "2020-05-17T00:00:00",
                    "2020-05-24T00:00:00",
                    "2020-05-31T00:00:00",
                    "2020-06-07T00:00:00",
                    "2020-06-14T00:00:00",
                    "2020-06-21T00:00:00",
                    "2020-06-28T00:00:00",
                    "2020-07-05T00:00:00",
                    "2020-07-12T00:00:00",
                    "2020-07-19T00:00:00",
                    "2020-07-26T00:00:00",
                    "2020-08-02T00:00:00",
                    "2020-08-09T00:00:00",
                    "2020-08-16T00:00:00",
                    "2020-08-23T00:00:00",
                    "2020-08-30T00:00:00",
                    "2020-09-06T00:00:00",
                    "2020-09-13T00:00:00",
                    "2020-09-20T00:00:00",
                    "2020-09-27T00:00:00",
                    "2020-10-04T00:00:00",
                    "2020-10-11T00:00:00",
                    "2020-10-18T00:00:00",
                    "2020-10-25T00:00:00",
                    "2020-11-01T00:00:00",
                    "2020-11-08T00:00:00",
                    "2020-11-15T00:00:00",
                    "2020-11-22T00:00:00",
                    "2020-11-29T00:00:00",
                    "2020-12-06T00:00:00",
                    "2020-12-13T00:00:00",
                    "2020-12-20T00:00:00",
                    "2020-12-27T00:00:00",
                    "2021-01-03T00:00:00",
                    "2021-01-10T00:00:00",
                    "2021-01-17T00:00:00",
                    "2021-01-24T00:00:00",
                    "2021-01-31T00:00:00",
                    "2021-02-07T00:00:00",
                    "2021-02-14T00:00:00",
                    "2021-02-21T00:00:00",
                    "2021-02-28T00:00:00",
                    "2021-03-07T00:00:00",
                    "2021-03-14T00:00:00",
                    "2021-03-21T00:00:00",
                    "2021-03-28T00:00:00",
                    "2021-04-04T00:00:00",
                    "2021-04-11T00:00:00",
                    "2021-04-18T00:00:00",
                    "2021-04-25T00:00:00",
                    "2021-05-02T00:00:00",
                    "2021-05-09T00:00:00",
                    "2021-05-16T00:00:00",
                    "2021-05-23T00:00:00",
                    "2021-05-30T00:00:00",
                    "2021-06-06T00:00:00",
                    "2021-06-13T00:00:00",
                    "2021-06-20T00:00:00",
                    "2021-06-27T00:00:00",
                    "2021-07-04T00:00:00",
                    "2021-07-11T00:00:00",
                    "2021-07-18T00:00:00"
                  ],
                  "xaxis": "x",
                  "y": [
                    1158.0235483870968,
                    1158.0235483870968,
                    1158.0235483870968,
                    1138.811741935484,
                    1113.196,
                    1113.196,
                    1113.196,
                    1279.4978064516129,
                    1501.2335483870968,
                    1501.2335483870968,
                    1501.2335483870968,
                    1501.2335483870968,
                    0,
                    0,
                    0,
                    0,
                    0,
                    0,
                    0,
                    0,
                    0,
                    0,
                    0,
                    0,
                    0,
                    0,
                    0,
                    0,
                    0,
                    0,
                    0,
                    0,
                    0,
                    251.92533333333333,
                    1763.4773333333333,
                    1763.4773333333333,
                    1763.4773333333333,
                    1763.4773333333333,
                    1453.190365591398,
                    1401.475870967742,
                    1401.475870967742,
                    1401.475870967742,
                    1313.9273548387098,
                    1197.196,
                    1197.196,
                    1197.196,
                    1202.7712258064516,
                    1236.222580645161,
                    1236.222580645161,
                    1236.222580645161,
                    1236.222580645161,
                    1111.9935483870968,
                    1062.3019354838711,
                    1062.3019354838711,
                    1062.3019354838711,
                    1053.8588209121249,
                    1032.7510344827583,
                    1032.7510344827583,
                    1032.7510344827583,
                    1029.748849833148,
                    1011.7357419354838,
                    1011.7357419354838,
                    1011.7357419354838,
                    1011.7357419354838,
                    289.06735483870966,
                    0,
                    0,
                    0,
                    0,
                    0,
                    0,
                    0,
                    0,
                    0,
                    0,
                    0,
                    0,
                    0,
                    0,
                    0,
                    0,
                    0,
                    0,
                    0,
                    0,
                    0,
                    761.6024,
                    888.5361333333333,
                    888.5361333333333,
                    888.5361333333333,
                    1133.549587096774,
                    1317.3096774193546,
                    1317.3096774193546,
                    1317.3096774193546,
                    1323.3065806451611,
                    1359.2880000000002,
                    1359.2880000000002,
                    1359.2880000000002,
                    1359.2880000000002,
                    385.17290322580646,
                    0,
                    0,
                    0,
                    0,
                    0,
                    0,
                    0,
                    0,
                    0,
                    0,
                    0,
                    0,
                    0,
                    0,
                    0,
                    0,
                    0,
                    0,
                    0,
                    0,
                    0,
                    0,
                    0,
                    0,
                    0,
                    0,
                    0,
                    0,
                    0,
                    0,
                    0,
                    0
                  ],
                  "yaxis": "y"
                }
              ],
              "layout": {
                "barmode": "relative",
                "legend": {
                  "title": {
                    "text": "variable"
                  },
                  "tracegroupgap": 0
                },
                "template": {
                  "data": {
                    "bar": [
                      {
                        "error_x": {
                          "color": "#2a3f5f"
                        },
                        "error_y": {
                          "color": "#2a3f5f"
                        },
                        "marker": {
                          "line": {
                            "color": "#E5ECF6",
                            "width": 0.5
                          },
                          "pattern": {
                            "fillmode": "overlay",
                            "size": 10,
                            "solidity": 0.2
                          }
                        },
                        "type": "bar"
                      }
                    ],
                    "barpolar": [
                      {
                        "marker": {
                          "line": {
                            "color": "#E5ECF6",
                            "width": 0.5
                          },
                          "pattern": {
                            "fillmode": "overlay",
                            "size": 10,
                            "solidity": 0.2
                          }
                        },
                        "type": "barpolar"
                      }
                    ],
                    "carpet": [
                      {
                        "aaxis": {
                          "endlinecolor": "#2a3f5f",
                          "gridcolor": "white",
                          "linecolor": "white",
                          "minorgridcolor": "white",
                          "startlinecolor": "#2a3f5f"
                        },
                        "baxis": {
                          "endlinecolor": "#2a3f5f",
                          "gridcolor": "white",
                          "linecolor": "white",
                          "minorgridcolor": "white",
                          "startlinecolor": "#2a3f5f"
                        },
                        "type": "carpet"
                      }
                    ],
                    "choropleth": [
                      {
                        "colorbar": {
                          "outlinewidth": 0,
                          "ticks": ""
                        },
                        "type": "choropleth"
                      }
                    ],
                    "contour": [
                      {
                        "colorbar": {
                          "outlinewidth": 0,
                          "ticks": ""
                        },
                        "colorscale": [
                          [
                            0,
                            "#0d0887"
                          ],
                          [
                            0.1111111111111111,
                            "#46039f"
                          ],
                          [
                            0.2222222222222222,
                            "#7201a8"
                          ],
                          [
                            0.3333333333333333,
                            "#9c179e"
                          ],
                          [
                            0.4444444444444444,
                            "#bd3786"
                          ],
                          [
                            0.5555555555555556,
                            "#d8576b"
                          ],
                          [
                            0.6666666666666666,
                            "#ed7953"
                          ],
                          [
                            0.7777777777777778,
                            "#fb9f3a"
                          ],
                          [
                            0.8888888888888888,
                            "#fdca26"
                          ],
                          [
                            1,
                            "#f0f921"
                          ]
                        ],
                        "type": "contour"
                      }
                    ],
                    "contourcarpet": [
                      {
                        "colorbar": {
                          "outlinewidth": 0,
                          "ticks": ""
                        },
                        "type": "contourcarpet"
                      }
                    ],
                    "heatmap": [
                      {
                        "colorbar": {
                          "outlinewidth": 0,
                          "ticks": ""
                        },
                        "colorscale": [
                          [
                            0,
                            "#0d0887"
                          ],
                          [
                            0.1111111111111111,
                            "#46039f"
                          ],
                          [
                            0.2222222222222222,
                            "#7201a8"
                          ],
                          [
                            0.3333333333333333,
                            "#9c179e"
                          ],
                          [
                            0.4444444444444444,
                            "#bd3786"
                          ],
                          [
                            0.5555555555555556,
                            "#d8576b"
                          ],
                          [
                            0.6666666666666666,
                            "#ed7953"
                          ],
                          [
                            0.7777777777777778,
                            "#fb9f3a"
                          ],
                          [
                            0.8888888888888888,
                            "#fdca26"
                          ],
                          [
                            1,
                            "#f0f921"
                          ]
                        ],
                        "type": "heatmap"
                      }
                    ],
                    "heatmapgl": [
                      {
                        "colorbar": {
                          "outlinewidth": 0,
                          "ticks": ""
                        },
                        "colorscale": [
                          [
                            0,
                            "#0d0887"
                          ],
                          [
                            0.1111111111111111,
                            "#46039f"
                          ],
                          [
                            0.2222222222222222,
                            "#7201a8"
                          ],
                          [
                            0.3333333333333333,
                            "#9c179e"
                          ],
                          [
                            0.4444444444444444,
                            "#bd3786"
                          ],
                          [
                            0.5555555555555556,
                            "#d8576b"
                          ],
                          [
                            0.6666666666666666,
                            "#ed7953"
                          ],
                          [
                            0.7777777777777778,
                            "#fb9f3a"
                          ],
                          [
                            0.8888888888888888,
                            "#fdca26"
                          ],
                          [
                            1,
                            "#f0f921"
                          ]
                        ],
                        "type": "heatmapgl"
                      }
                    ],
                    "histogram": [
                      {
                        "marker": {
                          "pattern": {
                            "fillmode": "overlay",
                            "size": 10,
                            "solidity": 0.2
                          }
                        },
                        "type": "histogram"
                      }
                    ],
                    "histogram2d": [
                      {
                        "colorbar": {
                          "outlinewidth": 0,
                          "ticks": ""
                        },
                        "colorscale": [
                          [
                            0,
                            "#0d0887"
                          ],
                          [
                            0.1111111111111111,
                            "#46039f"
                          ],
                          [
                            0.2222222222222222,
                            "#7201a8"
                          ],
                          [
                            0.3333333333333333,
                            "#9c179e"
                          ],
                          [
                            0.4444444444444444,
                            "#bd3786"
                          ],
                          [
                            0.5555555555555556,
                            "#d8576b"
                          ],
                          [
                            0.6666666666666666,
                            "#ed7953"
                          ],
                          [
                            0.7777777777777778,
                            "#fb9f3a"
                          ],
                          [
                            0.8888888888888888,
                            "#fdca26"
                          ],
                          [
                            1,
                            "#f0f921"
                          ]
                        ],
                        "type": "histogram2d"
                      }
                    ],
                    "histogram2dcontour": [
                      {
                        "colorbar": {
                          "outlinewidth": 0,
                          "ticks": ""
                        },
                        "colorscale": [
                          [
                            0,
                            "#0d0887"
                          ],
                          [
                            0.1111111111111111,
                            "#46039f"
                          ],
                          [
                            0.2222222222222222,
                            "#7201a8"
                          ],
                          [
                            0.3333333333333333,
                            "#9c179e"
                          ],
                          [
                            0.4444444444444444,
                            "#bd3786"
                          ],
                          [
                            0.5555555555555556,
                            "#d8576b"
                          ],
                          [
                            0.6666666666666666,
                            "#ed7953"
                          ],
                          [
                            0.7777777777777778,
                            "#fb9f3a"
                          ],
                          [
                            0.8888888888888888,
                            "#fdca26"
                          ],
                          [
                            1,
                            "#f0f921"
                          ]
                        ],
                        "type": "histogram2dcontour"
                      }
                    ],
                    "mesh3d": [
                      {
                        "colorbar": {
                          "outlinewidth": 0,
                          "ticks": ""
                        },
                        "type": "mesh3d"
                      }
                    ],
                    "parcoords": [
                      {
                        "line": {
                          "colorbar": {
                            "outlinewidth": 0,
                            "ticks": ""
                          }
                        },
                        "type": "parcoords"
                      }
                    ],
                    "pie": [
                      {
                        "automargin": true,
                        "type": "pie"
                      }
                    ],
                    "scatter": [
                      {
                        "fillpattern": {
                          "fillmode": "overlay",
                          "size": 10,
                          "solidity": 0.2
                        },
                        "type": "scatter"
                      }
                    ],
                    "scatter3d": [
                      {
                        "line": {
                          "colorbar": {
                            "outlinewidth": 0,
                            "ticks": ""
                          }
                        },
                        "marker": {
                          "colorbar": {
                            "outlinewidth": 0,
                            "ticks": ""
                          }
                        },
                        "type": "scatter3d"
                      }
                    ],
                    "scattercarpet": [
                      {
                        "marker": {
                          "colorbar": {
                            "outlinewidth": 0,
                            "ticks": ""
                          }
                        },
                        "type": "scattercarpet"
                      }
                    ],
                    "scattergeo": [
                      {
                        "marker": {
                          "colorbar": {
                            "outlinewidth": 0,
                            "ticks": ""
                          }
                        },
                        "type": "scattergeo"
                      }
                    ],
                    "scattergl": [
                      {
                        "marker": {
                          "colorbar": {
                            "outlinewidth": 0,
                            "ticks": ""
                          }
                        },
                        "type": "scattergl"
                      }
                    ],
                    "scattermapbox": [
                      {
                        "marker": {
                          "colorbar": {
                            "outlinewidth": 0,
                            "ticks": ""
                          }
                        },
                        "type": "scattermapbox"
                      }
                    ],
                    "scatterpolar": [
                      {
                        "marker": {
                          "colorbar": {
                            "outlinewidth": 0,
                            "ticks": ""
                          }
                        },
                        "type": "scatterpolar"
                      }
                    ],
                    "scatterpolargl": [
                      {
                        "marker": {
                          "colorbar": {
                            "outlinewidth": 0,
                            "ticks": ""
                          }
                        },
                        "type": "scatterpolargl"
                      }
                    ],
                    "scatterternary": [
                      {
                        "marker": {
                          "colorbar": {
                            "outlinewidth": 0,
                            "ticks": ""
                          }
                        },
                        "type": "scatterternary"
                      }
                    ],
                    "surface": [
                      {
                        "colorbar": {
                          "outlinewidth": 0,
                          "ticks": ""
                        },
                        "colorscale": [
                          [
                            0,
                            "#0d0887"
                          ],
                          [
                            0.1111111111111111,
                            "#46039f"
                          ],
                          [
                            0.2222222222222222,
                            "#7201a8"
                          ],
                          [
                            0.3333333333333333,
                            "#9c179e"
                          ],
                          [
                            0.4444444444444444,
                            "#bd3786"
                          ],
                          [
                            0.5555555555555556,
                            "#d8576b"
                          ],
                          [
                            0.6666666666666666,
                            "#ed7953"
                          ],
                          [
                            0.7777777777777778,
                            "#fb9f3a"
                          ],
                          [
                            0.8888888888888888,
                            "#fdca26"
                          ],
                          [
                            1,
                            "#f0f921"
                          ]
                        ],
                        "type": "surface"
                      }
                    ],
                    "table": [
                      {
                        "cells": {
                          "fill": {
                            "color": "#EBF0F8"
                          },
                          "line": {
                            "color": "white"
                          }
                        },
                        "header": {
                          "fill": {
                            "color": "#C8D4E3"
                          },
                          "line": {
                            "color": "white"
                          }
                        },
                        "type": "table"
                      }
                    ]
                  },
                  "layout": {
                    "annotationdefaults": {
                      "arrowcolor": "#2a3f5f",
                      "arrowhead": 0,
                      "arrowwidth": 1
                    },
                    "autotypenumbers": "strict",
                    "coloraxis": {
                      "colorbar": {
                        "outlinewidth": 0,
                        "ticks": ""
                      }
                    },
                    "colorscale": {
                      "diverging": [
                        [
                          0,
                          "#8e0152"
                        ],
                        [
                          0.1,
                          "#c51b7d"
                        ],
                        [
                          0.2,
                          "#de77ae"
                        ],
                        [
                          0.3,
                          "#f1b6da"
                        ],
                        [
                          0.4,
                          "#fde0ef"
                        ],
                        [
                          0.5,
                          "#f7f7f7"
                        ],
                        [
                          0.6,
                          "#e6f5d0"
                        ],
                        [
                          0.7,
                          "#b8e186"
                        ],
                        [
                          0.8,
                          "#7fbc41"
                        ],
                        [
                          0.9,
                          "#4d9221"
                        ],
                        [
                          1,
                          "#276419"
                        ]
                      ],
                      "sequential": [
                        [
                          0,
                          "#0d0887"
                        ],
                        [
                          0.1111111111111111,
                          "#46039f"
                        ],
                        [
                          0.2222222222222222,
                          "#7201a8"
                        ],
                        [
                          0.3333333333333333,
                          "#9c179e"
                        ],
                        [
                          0.4444444444444444,
                          "#bd3786"
                        ],
                        [
                          0.5555555555555556,
                          "#d8576b"
                        ],
                        [
                          0.6666666666666666,
                          "#ed7953"
                        ],
                        [
                          0.7777777777777778,
                          "#fb9f3a"
                        ],
                        [
                          0.8888888888888888,
                          "#fdca26"
                        ],
                        [
                          1,
                          "#f0f921"
                        ]
                      ],
                      "sequentialminus": [
                        [
                          0,
                          "#0d0887"
                        ],
                        [
                          0.1111111111111111,
                          "#46039f"
                        ],
                        [
                          0.2222222222222222,
                          "#7201a8"
                        ],
                        [
                          0.3333333333333333,
                          "#9c179e"
                        ],
                        [
                          0.4444444444444444,
                          "#bd3786"
                        ],
                        [
                          0.5555555555555556,
                          "#d8576b"
                        ],
                        [
                          0.6666666666666666,
                          "#ed7953"
                        ],
                        [
                          0.7777777777777778,
                          "#fb9f3a"
                        ],
                        [
                          0.8888888888888888,
                          "#fdca26"
                        ],
                        [
                          1,
                          "#f0f921"
                        ]
                      ]
                    },
                    "colorway": [
                      "#636efa",
                      "#EF553B",
                      "#00cc96",
                      "#ab63fa",
                      "#FFA15A",
                      "#19d3f3",
                      "#FF6692",
                      "#B6E880",
                      "#FF97FF",
                      "#FECB52"
                    ],
                    "font": {
                      "color": "#2a3f5f"
                    },
                    "geo": {
                      "bgcolor": "white",
                      "lakecolor": "white",
                      "landcolor": "#E5ECF6",
                      "showlakes": true,
                      "showland": true,
                      "subunitcolor": "white"
                    },
                    "hoverlabel": {
                      "align": "left"
                    },
                    "hovermode": "closest",
                    "mapbox": {
                      "style": "light"
                    },
                    "paper_bgcolor": "white",
                    "plot_bgcolor": "#E5ECF6",
                    "polar": {
                      "angularaxis": {
                        "gridcolor": "white",
                        "linecolor": "white",
                        "ticks": ""
                      },
                      "bgcolor": "#E5ECF6",
                      "radialaxis": {
                        "gridcolor": "white",
                        "linecolor": "white",
                        "ticks": ""
                      }
                    },
                    "scene": {
                      "xaxis": {
                        "backgroundcolor": "#E5ECF6",
                        "gridcolor": "white",
                        "gridwidth": 2,
                        "linecolor": "white",
                        "showbackground": true,
                        "ticks": "",
                        "zerolinecolor": "white"
                      },
                      "yaxis": {
                        "backgroundcolor": "#E5ECF6",
                        "gridcolor": "white",
                        "gridwidth": 2,
                        "linecolor": "white",
                        "showbackground": true,
                        "ticks": "",
                        "zerolinecolor": "white"
                      },
                      "zaxis": {
                        "backgroundcolor": "#E5ECF6",
                        "gridcolor": "white",
                        "gridwidth": 2,
                        "linecolor": "white",
                        "showbackground": true,
                        "ticks": "",
                        "zerolinecolor": "white"
                      }
                    },
                    "shapedefaults": {
                      "line": {
                        "color": "#2a3f5f"
                      }
                    },
                    "ternary": {
                      "aaxis": {
                        "gridcolor": "white",
                        "linecolor": "white",
                        "ticks": ""
                      },
                      "baxis": {
                        "gridcolor": "white",
                        "linecolor": "white",
                        "ticks": ""
                      },
                      "bgcolor": "#E5ECF6",
                      "caxis": {
                        "gridcolor": "white",
                        "linecolor": "white",
                        "ticks": ""
                      }
                    },
                    "title": {
                      "x": 0.05
                    },
                    "xaxis": {
                      "automargin": true,
                      "gridcolor": "white",
                      "linecolor": "white",
                      "ticks": "",
                      "title": {
                        "standoff": 15
                      },
                      "zerolinecolor": "white",
                      "zerolinewidth": 2
                    },
                    "yaxis": {
                      "automargin": true,
                      "gridcolor": "white",
                      "linecolor": "white",
                      "ticks": "",
                      "title": {
                        "standoff": 15
                      },
                      "zerolinecolor": "white",
                      "zerolinewidth": 2
                    }
                  }
                },
                "title": {
                  "text": "Channel Spend per Date"
                },
                "xaxis": {
                  "anchor": "y",
                  "domain": [
                    0,
                    1
                  ],
                  "title": {
                    "text": "Date"
                  }
                },
                "yaxis": {
                  "anchor": "x",
                  "domain": [
                    0,
                    1
                  ],
                  "title": {
                    "text": "value"
                  }
                }
              }
            }
          },
          "metadata": {},
          "output_type": "display_data"
        }
      ],
      "source": [
        "# PLot channel spend for month\n",
        "fig = px.bar(\n",
        "    pdf_processed, \n",
        "    x=pdf_processed.index, \n",
        "    y=CHANNELS, \n",
        "    title=\"Channel Spend per Date\"\n",
        ")\n",
        "fig.show()"
      ]
    },
    {
      "cell_type": "markdown",
      "metadata": {
        "id": "HSo-JtkFp-Ue"
      },
      "source": [
        "## 4. Adstock modeling."
      ]
    },
    {
      "cell_type": "markdown",
      "metadata": {
        "id": "9GqTdpENqaXI"
      },
      "source": [
        "In this section we add (i) carry over and (ii) saturation effects.\n",
        "\n",
        "We want to model the relationship of the different investment channels using a linear regression, however we want to take into account the [decay effect](https://en.wikipedia.org/wiki/Advertising_adstock#Advertising_lag:_decay_effect) and the [law of diminishing returns](https://en.wikipedia.org/wiki/Advertising_adstock#Campaign_carry-over).\n",
        "\n",
        "---\n",
        "For this, instead of working directly with spend per channel, we apply different transformations to them\n",
        "\n",
        "> 1. For carry over $c_{t}$, we apply the following transformation.\n",
        "$$c_{t} = x_{t} + \\sum_{j=1}^{n} \\lambda^{t}  x_{t-j}$$\n",
        ">\n",
        "> Where $x_{t}$ is the investment in the channel for the $t$ period, $n$ represents the amount of periods to look back and $\\lambda$ represents the strength or decay factor. Both $n$ and $\\lambda$ will be parameters of the function.\n",
        "><br/>\n",
        "><br/>\n",
        ">2. For the saturation effect $s_{t}$, the following transformation is applied.\n",
        ">\n",
        ">$$s_{t} =1 -  e^{-\\alpha x_{t}} $$\n",
        ">\n",
        "> In this case, $\\alpha$ will be a parameter to input.\n",
        "\n",
        "<br/>\n",
        "\n",
        "In consequence, instead of modeling sales as a function of investment per channel, we fit a regression to the transformations described previously. The question now is which values should we use for **$n$, $\\lambda$ and $\\alpha$**? We can think of them as *hyperparameters of our model*. And then perform a *numerical optimization* to find values that minimize the mean squared error (or any metric of our interest) of the model.\n",
        "<br/>\n",
        "\n",
        "\n",
        "Lastly, data presents a heavy seasonality, one hot encoded variables were added for every month in the year.\n",
        "\n",
        "---\n",
        "\n",
        "For a complete explanation of the methods used in here, we refer the reader to page *154/510* of [Introduction to Algorithmic Marketing](https://algorithmicweb.files.wordpress.com/2018/07/algorithmic-marketing-ai-for-marketing-operations-r1-7g.pdf).\n"
      ]
    },
    {
      "cell_type": "markdown",
      "metadata": {
        "id": "sgp2qYycKSbL"
      },
      "source": [
        "## 5. Fit model."
      ]
    },
    {
      "cell_type": "markdown",
      "metadata": {
        "id": "MKjQa9oo9jqO"
      },
      "source": [
        "### Tune hyperparameters\n",
        "\n",
        "- We use optuna for hyperparameter tuning, but other libraries like `scipy.minimize` should work as well.\n",
        "- For every channel, we have three ($\\alpha$, $n$ and $\\lambda$) hyperparameters to tune.\n",
        "- We work with a Ridge regression to account for (possible) overfitting.\n",
        "- We aim to minimize *MSE*.\n",
        "- We repeat 2000 trials for the optimization, caution! can take some time. Feel free to change `n_trials=100` to speed things up.\n",
        "- We split the dataset in train and test. Since we are working with time series we work with consecutives chunks of data. We define `test_size=24` weeks"
      ]
    },
    {
      "cell_type": "code",
      "execution_count": 8,
      "metadata": {},
      "outputs": [],
      "source": [
        "# Split data for train test.\n",
        "pdf_train = pdf_processed.iloc[:-TEST_SIZE, :]\n",
        "pdf_test = pdf_processed.iloc[-TEST_SIZE:, :]\n",
        "\n",
        "# Define features and target variable.\n",
        "features = [\n",
        "    c for c in list(pdf_processed) if 'month' in c or 'flag' in c\n",
        "] + [f'adstock_{c}' for c in CHANNELS]"
      ]
    },
    {
      "cell_type": "code",
      "execution_count": 9,
      "metadata": {
        "id": "Hv9Ix4RDa_Bf"
      },
      "outputs": [],
      "source": [
        "# Usually helpers should be at the top of the notebook, but we put this one here\n",
        "# as it is a dictionary with multiple values to configure and play around with.\n",
        "\n",
        "def objective_tune_params(trial, df: pd.DataFrame = pdf_train):\n",
        "\n",
        "    hyperparameters = {\n",
        "        'alpha_tv_1': trial.suggest_float('alpha_tv_1', 0, 0.1),\n",
        "        'decay_tv_1': trial.suggest_float('decay_tv_1',  0, 0.5),\n",
        "        'lag_tv_1': trial.suggest_int('lag_tv_1', 0, 6),\n",
        "        'alpha_tv_2': trial.suggest_float('alpha_tv_2', 0, 0.1),\n",
        "        'decay_tv_2': trial.suggest_float('decay_tv_2',  0, 0.5),        \n",
        "        'lag_tv_2': trial.suggest_int('lag_tv_2', 0, 6),\n",
        "        'alpha_tv_3': trial.suggest_float('alpha_tv_3', 0, 0.1),\n",
        "        'decay_tv_3': trial.suggest_float('decay_tv_3',  0, 0.5),\n",
        "        'lag_tv_3': trial.suggest_int('lag_tv_3', 0, 6),\n",
        "        'alpha_onsite': trial.suggest_float('alpha_onsite', 0, 0.1),\n",
        "        'decay_onsite': trial.suggest_float('decay_onsite', 0, 0.5),\n",
        "        'lag_onsite': trial.suggest_int('lag_onsite', 0, 3),\n",
        "        'alpha_promo': trial.suggest_float('alpha_promo', 0, 0.1),\n",
        "        'decay_promo': trial.suggest_float('decay_promo', 0, 0.5),\n",
        "        'lag_promo': trial.suggest_int('lag_promo', 0, 5)\n",
        "    }\n",
        "    # Add adstock variables\n",
        "    pdf_adstock = add_adstock_to_pdf(df, hyperparameters, CHANNELS)\n",
        "\n",
        "    # Define X and y.  \n",
        "    X = pdf_adstock[features]\n",
        "    y = pdf_adstock[TARGET]\n",
        "    \n",
        "    # Initialize regression class.\n",
        "    #lr = Ridge()\n",
        "    lr = LinearRegression()\n",
        "    \n",
        "    # Fit model and compute error (mean squared error).\n",
        "    lr.fit(X ,y)\n",
        "    y_hat = lr.predict(X)\n",
        "    return np.mean((y - y_hat) ** 2)"
      ]
    },
    {
      "cell_type": "code",
      "execution_count": 10,
      "metadata": {
        "id": "UlQwdnqn5d-K"
      },
      "outputs": [],
      "source": [
        "# Perform the optimization.\n",
        "study_tune_params = optuna.create_study(\n",
        "    sampler=optuna.samplers.RandomSampler(seed=SEED)\n",
        ")\n",
        "study_tune_params.optimize(objective_tune_params, n_trials=1000)"
      ]
    },
    {
      "cell_type": "markdown",
      "metadata": {
        "id": "iXZljqlCLnAO"
      },
      "source": [
        "### Run final model.\n",
        "With tuned hyperparameters, we train the final model."
      ]
    },
    {
      "cell_type": "code",
      "execution_count": 11,
      "metadata": {},
      "outputs": [
        {
          "data": {
            "text/plain": [
              "{'alpha_tv_1': 0.03463635031084943,\n",
              " 'decay_tv_1': 0.29968961113055087,\n",
              " 'lag_tv_1': 6,\n",
              " 'alpha_tv_2': 0.01670417813381526,\n",
              " 'decay_tv_2': 0.35882279317137133,\n",
              " 'lag_tv_2': 5,\n",
              " 'alpha_tv_3': 0.008897553586933837,\n",
              " 'decay_tv_3': 0.4306246925915325,\n",
              " 'lag_tv_3': 5,\n",
              " 'alpha_onsite': 0.003340300657743445,\n",
              " 'decay_onsite': 0.04554220744002574,\n",
              " 'lag_onsite': 0,\n",
              " 'alpha_promo': 0.033474353179936224,\n",
              " 'decay_promo': 0.2546444953399631,\n",
              " 'lag_promo': 3}"
            ]
          },
          "execution_count": 11,
          "metadata": {},
          "output_type": "execute_result"
        }
      ],
      "source": [
        "# Check optimized params.\n",
        "study_tune_params.best_params"
      ]
    },
    {
      "cell_type": "code",
      "execution_count": 12,
      "metadata": {
        "colab": {
          "base_uri": "https://localhost:8080/"
        },
        "id": "I0_J5daSq5BM",
        "outputId": "b9f7560c-e10d-41eb-f579-deb65efb9fa9"
      },
      "outputs": [
        {
          "data": {
            "text/plain": [
              "LinearRegression()"
            ]
          },
          "execution_count": 12,
          "metadata": {},
          "output_type": "execute_result"
        }
      ],
      "source": [
        "# Best set of hyperparameters.\n",
        "hyperparameters = study_tune_params.best_params\n",
        "\n",
        "# We replicate adstock transformation, train test splitting and model fitting. \n",
        "# Add adstock columns. \n",
        "pdf_adstock_train  = add_adstock_to_pdf(pdf_train,hyperparameters, CHANNELS) \n",
        "pdf_adstock_test = add_adstock_to_pdf(pdf_test, hyperparameters, CHANNELS)\n",
        "\n",
        "# Define train and test data.\n",
        "X_train, y_train = pdf_adstock_train[features], pdf_adstock_train[TARGET]\n",
        "X_test, y_test = pdf_adstock_test[features], pdf_adstock_test[TARGET]\n",
        "\n",
        "# Initialize model.\n",
        "lr = LinearRegression()\n",
        "\n",
        "lr.fit(X_train, y_train)"
      ]
    },
    {
      "cell_type": "markdown",
      "metadata": {
        "id": "1hSppHJmM62O"
      },
      "source": [
        "## 6. Model performance."
      ]
    },
    {
      "cell_type": "code",
      "execution_count": 13,
      "metadata": {
        "colab": {
          "base_uri": "https://localhost:8080/",
          "height": 264
        },
        "id": "bKt9OphHrK19",
        "outputId": "e627137b-2dbc-4db5-a25e-4377f87a13f8"
      },
      "outputs": [
        {
          "data": {
            "image/png": "[encoded data removed]",
            "text/plain": [
              "<Figure size 1440x576 with 1 Axes>"
            ]
          },
          "metadata": {
            "needs_background": "light"
          },
          "output_type": "display_data"
        },
        {
          "name": "stdout",
          "output_type": "stream",
          "text": [
            "MAPE for training period is:0.15\n",
            "MAPE for testing period is:0.48\n",
            "R2 of the training is: 0.84 and, R2 of the testing is: 0.29\n"
          ]
        }
      ],
      "source": [
        "# Line chart for performance.\n",
        "plt.plot(pdf_train.index, lr.predict(X_train),\n",
        "         pdf_train.index, y_train)\n",
        "plt.title('Target vs. prediction')\n",
        "plt.show()\n",
        "\n",
        "# Compute mean absolute error.\n",
        "# Actually, we should check for mse since it's what we are optimizing for. \n",
        "# However, mape might be a bit more intuitive.\n",
        "mape_train = np.mean(\n",
        "    np.abs((y_train - lr.predict(X_train))) / y_train\n",
        ")\n",
        "mape_test = np.mean(\n",
        "    np.abs((y_test - lr.predict(X_test))) / y_test\n",
        ")\n",
        "r2_train = round(lr.score(X_train, y_train), 2)\n",
        "r2_test = round(lr.score(X_test, y_test), 2)\n",
        "print(f'MAPE for training period is:{np.round(mape_train, 2)}')\n",
        "print(f'MAPE for testing period is:{np.round(mape_test, 2)}')\n",
        "print(\n",
        "    f'R2 of the training is: {r2_train} and,',\n",
        "    f'R2 of the testing is: {r2_test}'\n",
        "    )"
      ]
    },
    {
      "cell_type": "markdown",
      "metadata": {
        "id": "9WDHCLldNktY"
      },
      "source": [
        "## 7. Channel contribution."
      ]
    },
    {
      "cell_type": "markdown",
      "metadata": {
        "id": "btC6qdJdPeiw"
      },
      "source": [
        "We observe the marginal channel contribution and the return on investment per channel.\n",
        "\n",
        "- on site marketing, tv_2 and tv_3 are the biggest sales drivers.\n",
        "- tv_3 and promotional events seems to be the two most efficients channels.\n",
        "- tv_1 and on site marketing seems to be inneficient channels (ROI < 1)."
      ]
    },
    {
      "cell_type": "code",
      "execution_count": 14,
      "metadata": {
        "colab": {
          "base_uri": "https://localhost:8080/"
        },
        "id": "oFqLZGV1hmLe",
        "outputId": "3bb917ac-bdcb-4e34-f162-7dd7c3798127"
      },
      "outputs": [
        {
          "data": {
            "image/png": "[encoded data removed]",
            "text/plain": [
              "<Figure size 1440x576 with 1 Axes>"
            ]
          },
          "metadata": {
            "needs_background": "light"
          },
          "output_type": "display_data"
        },
        {
          "name": "stdout",
          "output_type": "stream",
          "text": [
            "For adstock_tv_1: share of total sales is 0.06 and ROI is 0.39\n",
            "For adstock_tv_2: share of total sales is 0.21 and ROI is 2.61\n",
            "For adstock_tv_3: share of total sales is 0.37 and ROI is 34.78\n",
            "For adstock_promo: share of total sales is 0.04 and ROI is 7.68\n",
            "For adstock_onsite: share of total sales is 0.16 and ROI is 0.42\n"
          ]
        }
      ],
      "source": [
        "\n",
        "# base sales takes into account the intercept plus monthly effects.\n",
        "base = (\n",
        "    sum(\n",
        "        [\n",
        "            lr.coef_[\n",
        "                features.index(c)\n",
        "            ] * X_train.iloc[:, features.index(c)] for c in features if 'adstock' not in c\n",
        "        ]\n",
        "    )\n",
        "      + [lr.intercept_] * len(pdf_train.index))\n",
        "\n",
        "plt.stackplot(pdf_train.index, base,\n",
        "              sales_from('adstock_tv_1', features, lr, X_train),\n",
        "              sales_from('adstock_tv_2', features, lr, X_train),\n",
        "              sales_from('adstock_tv_3', features, lr, X_train),\n",
        "              sales_from('adstock_promo', features, lr, X_train),\n",
        "              sales_from('adstock_onsite', features, lr, X_train)\n",
        "              )\n",
        "plt.legend(['base'] + [c for c in features if 'adstock' in c])\n",
        "plt.show()\n",
        "\n",
        "# Compute ROI for every channel.\n",
        "for c in features:\n",
        "    if 'month' not in c and 'flag' not in c:\n",
        "        channel_share = np.round(sum(sales_from(c, features, lr, X_train)) / sum(lr.predict(X_train)), 2)\n",
        "        channel_roi = np.round(sum(sales_from(c, features, lr, X_train)) / sum(pdf_adstock_train[c.replace('adstock_', '')]), 2)\n",
        "        print(f'For {c}: share of total sales is {channel_share} and ROI is {channel_roi}')"
      ]
    },
    {
      "cell_type": "markdown",
      "metadata": {},
      "source": [
        "# Discussion \n",
        "\n",
        "- Why are some channel contributions negative? Does this make sense from a business POV? \n",
        "- What would happen if we try Log or Semi-log models? Would it be worth it? \n",
        "- What recommendations would you give to business with these results"
      ]
    },
    {
      "cell_type": "code",
      "execution_count": null,
      "metadata": {},
      "outputs": [],
      "source": []
    }
  ],
  "metadata": {
    "colab": {
      "collapsed_sections": [
        "iHwiHTunM3IG",
        "6Hh_rnfspT4t",
        "J_xqhVxApn4H",
        "Aa_hhZj2GluZ",
        "HSo-JtkFp-Ue",
        "MKjQa9oo9jqO",
        "iXZljqlCLnAO",
        "1hSppHJmM62O",
        "9WDHCLldNktY",
        "CJsR0BD2n5-D",
        "SqrY5dZSpJYP"
      ],
      "name": "Juan Prida: Marketing Mix Model.ipynb",
      "provenance": []
    },
    "kernelspec": {
      "display_name": "Python 3",
      "language": "python",
      "name": "python3"
    },
    "language_info": {
      "codemirror_mode": {
        "name": "ipython",
        "version": 3
      },
      "file_extension": ".py",
      "mimetype": "text/x-python",
      "name": "python",
      "nbconvert_exporter": "python",
      "pygments_lexer": "ipython3",
      "version": "3.9.7"
    }
  },
  "nbformat": 4,
  "nbformat_minor": 0
}
